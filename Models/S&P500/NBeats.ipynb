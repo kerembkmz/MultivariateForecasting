{
 "cells": [
  {
   "cell_type": "markdown",
   "source": [
    "<h2> Prerequisite </h2>\n",
    "- pip install torch    "
   ],
   "metadata": {
    "collapsed": false
   },
   "id": "49b96be4f5deceda"
  },
  {
   "cell_type": "code",
   "outputs": [],
   "source": [
    "import numpy as np\n",
    "import pandas as pd\n",
    "import matplotlib.pyplot as plt\n",
    "from sklearn.preprocessing import MinMaxScaler\n",
    "import torch\n",
    "import torch.nn as nn\n",
    "import torch.nn.functional as F\n",
    "import torch.optim as optim"
   ],
   "metadata": {
    "collapsed": false,
    "ExecuteTime": {
     "end_time": "2024-03-19T05:58:38.378723Z",
     "start_time": "2024-03-19T05:58:37.493726Z"
    }
   },
   "id": "45f8cd0c6bac992a",
   "execution_count": 2
  },
  {
   "cell_type": "code",
   "outputs": [],
   "source": [
    "df = pd.read_csv(\"/Users/keremsmacbook/DataspellProjects/MultivariateForecasting/Data/SP500_Cleaned.csv\")"
   ],
   "metadata": {
    "collapsed": false,
    "ExecuteTime": {
     "end_time": "2024-03-19T05:58:39.663903Z",
     "start_time": "2024-03-19T05:58:39.524214Z"
    }
   },
   "id": "7fc4c59fc0fb04e1",
   "execution_count": 3
  },
  {
   "cell_type": "code",
   "outputs": [],
   "source": [
    "df['Date'] = pd.to_datetime(df['Date'])\n",
    "df.set_index('Date', inplace=True)"
   ],
   "metadata": {
    "collapsed": false,
    "ExecuteTime": {
     "end_time": "2024-03-19T05:58:40.186541Z",
     "start_time": "2024-03-19T05:58:40.181506Z"
    }
   },
   "id": "f53b8fd8a4597732",
   "execution_count": 4
  },
  {
   "cell_type": "code",
   "outputs": [
    {
     "data": {
      "text/plain": "(2764, 461)"
     },
     "execution_count": 5,
     "metadata": {},
     "output_type": "execute_result"
    }
   ],
   "source": [
    "df.shape"
   ],
   "metadata": {
    "collapsed": false,
    "ExecuteTime": {
     "end_time": "2024-03-19T05:58:40.795753Z",
     "start_time": "2024-03-19T05:58:40.791975Z"
    }
   },
   "id": "340643e748d40bdd",
   "execution_count": 5
  },
  {
   "cell_type": "code",
   "outputs": [
    {
     "data": {
      "text/plain": "            Unnamed: 0          A        AAL       AAPL       ABBV        ABT  \\\nDate                                                                            \n2013-01-02           0  27.283405  13.179525  16.769093  22.419830  26.000973   \n2013-01-03           1  27.381128  12.877850  16.557428  22.234699  26.990719   \n2013-01-04           2  27.921843  13.886581  16.096222  21.953815  26.828459   \n2013-01-07           3  27.719885  13.990280  16.001547  21.998503  27.047497   \n2013-01-08           4  27.498386  14.291961  16.044611  21.519714  27.055613   \n2013-01-09           5  28.241058  14.263677  15.793853  21.641014  27.234089   \n2013-01-10           6  28.449533  14.273106  15.989633  21.704851  27.461245   \n2013-01-11           7  28.293179  13.933719  15.891588  21.866341  27.184271   \n2013-01-14           8  28.364840  13.830017  15.325013  22.021378  27.176128   \n2013-01-15           9  28.169407  13.490630  14.841516  22.350830  26.899151   \n\n                 ACGL        ACN       ADBE        ADI  ...         WY  \\\nDate                                                    ...              \n2013-01-02  14.793333  56.624992  38.340000  34.286098  ...  19.033312   \n2013-01-03  14.750000  56.419998  37.750000  33.732830  ...  19.033312   \n2013-01-04  14.876667  56.731575  38.130001  33.132832  ...  19.190020   \n2013-01-07  14.730000  56.485600  37.939999  33.234123  ...  19.248785   \n2013-01-08  14.750000  56.813564  38.139999  32.891258  ...  19.379377   \n2013-01-09  14.803333  57.215347  38.660000  32.805550  ...  19.823374   \n2013-01-10  14.836667  56.715172  38.619999  33.202961  ...  19.940905   \n2013-01-11  14.926667  57.297321  38.090000  32.930241  ...  20.110674   \n2013-01-14  15.026667  57.280918  38.160000  32.914646  ...  20.110674   \n2013-01-15  15.000000  57.600704  38.150002  32.743206  ...  19.967022   \n\n                  WYNN        XEL        XOM       XRAY        XYL        YUM  \\\nDate                                                                            \n2013-01-02   95.529976  19.385836  56.165749  37.213242  23.749273  39.127857   \n2013-01-03   96.557526  19.329191  56.064457  37.112217  23.671537  39.372551   \n2013-01-04   97.722618  19.400000  56.324043  37.433651  23.637007  39.803684   \n2013-01-07   98.054352  19.194668  55.671913  37.562252  23.326099  39.553158   \n2013-01-08   97.973450  19.230074  56.020145  37.130569  23.041113  37.892735   \n2013-01-09   98.321350  19.258394  55.804855  37.112217  23.403828  37.960068   \n2013-01-10   99.437920  19.258394  56.412678  37.038750  23.731987  38.797516   \n2013-01-11   99.510735  19.237150  56.735592  36.671391  23.472908  39.160606   \n2013-01-14   99.356995  19.173429  56.716572  36.561184  23.498819  38.738945   \n2013-01-15  100.166100  19.152187  56.684917  36.359127  23.429733  38.867794   \n\n                  ZBH       ZBRA       ZION  \nDate                                         \n2013-01-02  60.207806  40.959999  17.587208  \n2013-01-03  61.070477  41.000000  17.611206  \n2013-01-04  61.381714  40.669998  18.115057  \n2013-01-07  61.532909  40.900002  18.027084  \n2013-01-08  61.621864  40.930000  17.667183  \n2013-01-09  62.760197  41.369999  17.475239  \n2013-01-10  62.884705  41.150002  17.555218  \n2013-01-11  63.293781  41.299999  17.395258  \n2013-01-14  63.187073  40.980000  17.483234  \n2013-01-15  63.195961  41.139999  17.635189  \n\n[10 rows x 461 columns]",
      "text/html": "<div>\n<style scoped>\n    .dataframe tbody tr th:only-of-type {\n        vertical-align: middle;\n    }\n\n    .dataframe tbody tr th {\n        vertical-align: top;\n    }\n\n    .dataframe thead th {\n        text-align: right;\n    }\n</style>\n<table border=\"1\" class=\"dataframe\">\n  <thead>\n    <tr style=\"text-align: right;\">\n      <th></th>\n      <th>Unnamed: 0</th>\n      <th>A</th>\n      <th>AAL</th>\n      <th>AAPL</th>\n      <th>ABBV</th>\n      <th>ABT</th>\n      <th>ACGL</th>\n      <th>ACN</th>\n      <th>ADBE</th>\n      <th>ADI</th>\n      <th>...</th>\n      <th>WY</th>\n      <th>WYNN</th>\n      <th>XEL</th>\n      <th>XOM</th>\n      <th>XRAY</th>\n      <th>XYL</th>\n      <th>YUM</th>\n      <th>ZBH</th>\n      <th>ZBRA</th>\n      <th>ZION</th>\n    </tr>\n    <tr>\n      <th>Date</th>\n      <th></th>\n      <th></th>\n      <th></th>\n      <th></th>\n      <th></th>\n      <th></th>\n      <th></th>\n      <th></th>\n      <th></th>\n      <th></th>\n      <th></th>\n      <th></th>\n      <th></th>\n      <th></th>\n      <th></th>\n      <th></th>\n      <th></th>\n      <th></th>\n      <th></th>\n      <th></th>\n      <th></th>\n    </tr>\n  </thead>\n  <tbody>\n    <tr>\n      <th>2013-01-02</th>\n      <td>0</td>\n      <td>27.283405</td>\n      <td>13.179525</td>\n      <td>16.769093</td>\n      <td>22.419830</td>\n      <td>26.000973</td>\n      <td>14.793333</td>\n      <td>56.624992</td>\n      <td>38.340000</td>\n      <td>34.286098</td>\n      <td>...</td>\n      <td>19.033312</td>\n      <td>95.529976</td>\n      <td>19.385836</td>\n      <td>56.165749</td>\n      <td>37.213242</td>\n      <td>23.749273</td>\n      <td>39.127857</td>\n      <td>60.207806</td>\n      <td>40.959999</td>\n      <td>17.587208</td>\n    </tr>\n    <tr>\n      <th>2013-01-03</th>\n      <td>1</td>\n      <td>27.381128</td>\n      <td>12.877850</td>\n      <td>16.557428</td>\n      <td>22.234699</td>\n      <td>26.990719</td>\n      <td>14.750000</td>\n      <td>56.419998</td>\n      <td>37.750000</td>\n      <td>33.732830</td>\n      <td>...</td>\n      <td>19.033312</td>\n      <td>96.557526</td>\n      <td>19.329191</td>\n      <td>56.064457</td>\n      <td>37.112217</td>\n      <td>23.671537</td>\n      <td>39.372551</td>\n      <td>61.070477</td>\n      <td>41.000000</td>\n      <td>17.611206</td>\n    </tr>\n    <tr>\n      <th>2013-01-04</th>\n      <td>2</td>\n      <td>27.921843</td>\n      <td>13.886581</td>\n      <td>16.096222</td>\n      <td>21.953815</td>\n      <td>26.828459</td>\n      <td>14.876667</td>\n      <td>56.731575</td>\n      <td>38.130001</td>\n      <td>33.132832</td>\n      <td>...</td>\n      <td>19.190020</td>\n      <td>97.722618</td>\n      <td>19.400000</td>\n      <td>56.324043</td>\n      <td>37.433651</td>\n      <td>23.637007</td>\n      <td>39.803684</td>\n      <td>61.381714</td>\n      <td>40.669998</td>\n      <td>18.115057</td>\n    </tr>\n    <tr>\n      <th>2013-01-07</th>\n      <td>3</td>\n      <td>27.719885</td>\n      <td>13.990280</td>\n      <td>16.001547</td>\n      <td>21.998503</td>\n      <td>27.047497</td>\n      <td>14.730000</td>\n      <td>56.485600</td>\n      <td>37.939999</td>\n      <td>33.234123</td>\n      <td>...</td>\n      <td>19.248785</td>\n      <td>98.054352</td>\n      <td>19.194668</td>\n      <td>55.671913</td>\n      <td>37.562252</td>\n      <td>23.326099</td>\n      <td>39.553158</td>\n      <td>61.532909</td>\n      <td>40.900002</td>\n      <td>18.027084</td>\n    </tr>\n    <tr>\n      <th>2013-01-08</th>\n      <td>4</td>\n      <td>27.498386</td>\n      <td>14.291961</td>\n      <td>16.044611</td>\n      <td>21.519714</td>\n      <td>27.055613</td>\n      <td>14.750000</td>\n      <td>56.813564</td>\n      <td>38.139999</td>\n      <td>32.891258</td>\n      <td>...</td>\n      <td>19.379377</td>\n      <td>97.973450</td>\n      <td>19.230074</td>\n      <td>56.020145</td>\n      <td>37.130569</td>\n      <td>23.041113</td>\n      <td>37.892735</td>\n      <td>61.621864</td>\n      <td>40.930000</td>\n      <td>17.667183</td>\n    </tr>\n    <tr>\n      <th>2013-01-09</th>\n      <td>5</td>\n      <td>28.241058</td>\n      <td>14.263677</td>\n      <td>15.793853</td>\n      <td>21.641014</td>\n      <td>27.234089</td>\n      <td>14.803333</td>\n      <td>57.215347</td>\n      <td>38.660000</td>\n      <td>32.805550</td>\n      <td>...</td>\n      <td>19.823374</td>\n      <td>98.321350</td>\n      <td>19.258394</td>\n      <td>55.804855</td>\n      <td>37.112217</td>\n      <td>23.403828</td>\n      <td>37.960068</td>\n      <td>62.760197</td>\n      <td>41.369999</td>\n      <td>17.475239</td>\n    </tr>\n    <tr>\n      <th>2013-01-10</th>\n      <td>6</td>\n      <td>28.449533</td>\n      <td>14.273106</td>\n      <td>15.989633</td>\n      <td>21.704851</td>\n      <td>27.461245</td>\n      <td>14.836667</td>\n      <td>56.715172</td>\n      <td>38.619999</td>\n      <td>33.202961</td>\n      <td>...</td>\n      <td>19.940905</td>\n      <td>99.437920</td>\n      <td>19.258394</td>\n      <td>56.412678</td>\n      <td>37.038750</td>\n      <td>23.731987</td>\n      <td>38.797516</td>\n      <td>62.884705</td>\n      <td>41.150002</td>\n      <td>17.555218</td>\n    </tr>\n    <tr>\n      <th>2013-01-11</th>\n      <td>7</td>\n      <td>28.293179</td>\n      <td>13.933719</td>\n      <td>15.891588</td>\n      <td>21.866341</td>\n      <td>27.184271</td>\n      <td>14.926667</td>\n      <td>57.297321</td>\n      <td>38.090000</td>\n      <td>32.930241</td>\n      <td>...</td>\n      <td>20.110674</td>\n      <td>99.510735</td>\n      <td>19.237150</td>\n      <td>56.735592</td>\n      <td>36.671391</td>\n      <td>23.472908</td>\n      <td>39.160606</td>\n      <td>63.293781</td>\n      <td>41.299999</td>\n      <td>17.395258</td>\n    </tr>\n    <tr>\n      <th>2013-01-14</th>\n      <td>8</td>\n      <td>28.364840</td>\n      <td>13.830017</td>\n      <td>15.325013</td>\n      <td>22.021378</td>\n      <td>27.176128</td>\n      <td>15.026667</td>\n      <td>57.280918</td>\n      <td>38.160000</td>\n      <td>32.914646</td>\n      <td>...</td>\n      <td>20.110674</td>\n      <td>99.356995</td>\n      <td>19.173429</td>\n      <td>56.716572</td>\n      <td>36.561184</td>\n      <td>23.498819</td>\n      <td>38.738945</td>\n      <td>63.187073</td>\n      <td>40.980000</td>\n      <td>17.483234</td>\n    </tr>\n    <tr>\n      <th>2013-01-15</th>\n      <td>9</td>\n      <td>28.169407</td>\n      <td>13.490630</td>\n      <td>14.841516</td>\n      <td>22.350830</td>\n      <td>26.899151</td>\n      <td>15.000000</td>\n      <td>57.600704</td>\n      <td>38.150002</td>\n      <td>32.743206</td>\n      <td>...</td>\n      <td>19.967022</td>\n      <td>100.166100</td>\n      <td>19.152187</td>\n      <td>56.684917</td>\n      <td>36.359127</td>\n      <td>23.429733</td>\n      <td>38.867794</td>\n      <td>63.195961</td>\n      <td>41.139999</td>\n      <td>17.635189</td>\n    </tr>\n  </tbody>\n</table>\n<p>10 rows × 461 columns</p>\n</div>"
     },
     "execution_count": 6,
     "metadata": {},
     "output_type": "execute_result"
    }
   ],
   "source": [
    "df.head(10)"
   ],
   "metadata": {
    "collapsed": false,
    "ExecuteTime": {
     "end_time": "2024-03-19T05:58:41.353513Z",
     "start_time": "2024-03-19T05:58:41.342981Z"
    }
   },
   "id": "3b7b7417b0bdba39",
   "execution_count": 6
  },
  {
   "cell_type": "code",
   "outputs": [],
   "source": [
    "df.drop(\"Unnamed: 0\", inplace = True, axis=1)"
   ],
   "metadata": {
    "collapsed": false,
    "ExecuteTime": {
     "end_time": "2024-03-19T05:58:41.978319Z",
     "start_time": "2024-03-19T05:58:41.974955Z"
    }
   },
   "id": "bb590d8e42618f28",
   "execution_count": 7
  },
  {
   "cell_type": "code",
   "outputs": [
    {
     "data": {
      "text/plain": "                    A        AAL       AAPL       ABBV        ABT       ACGL  \\\nDate                                                                           \n2013-01-02  27.283405  13.179525  16.769093  22.419830  26.000973  14.793333   \n2013-01-03  27.381128  12.877850  16.557428  22.234699  26.990719  14.750000   \n2013-01-04  27.921843  13.886581  16.096222  21.953815  26.828459  14.876667   \n2013-01-07  27.719885  13.990280  16.001547  21.998503  27.047497  14.730000   \n2013-01-08  27.498386  14.291961  16.044611  21.519714  27.055613  14.750000   \n2013-01-09  28.241058  14.263677  15.793853  21.641014  27.234089  14.803333   \n2013-01-10  28.449533  14.273106  15.989633  21.704851  27.461245  14.836667   \n2013-01-11  28.293179  13.933719  15.891588  21.866341  27.184271  14.926667   \n2013-01-14  28.364840  13.830017  15.325013  22.021378  27.176128  15.026667   \n2013-01-15  28.169407  13.490630  14.841516  22.350830  26.899151  15.000000   \n\n                  ACN       ADBE        ADI        ADM  ...         WY  \\\nDate                                                    ...              \n2013-01-02  56.624992  38.340000  34.286098  21.421146  ...  19.033312   \n2013-01-03  56.419998  37.750000  33.732830  21.249302  ...  19.033312   \n2013-01-04  56.731575  38.130001  33.132832  21.832092  ...  19.190020   \n2013-01-07  56.485600  37.939999  33.234123  20.928026  ...  19.248785   \n2013-01-08  56.813564  38.139999  32.891258  21.174585  ...  19.379377   \n2013-01-09  57.215347  38.660000  32.805550  21.279190  ...  19.823374   \n2013-01-10  56.715172  38.619999  33.202961  21.174585  ...  19.940905   \n2013-01-11  57.297321  38.090000  32.930241  21.174585  ...  20.110674   \n2013-01-14  57.280918  38.160000  32.914646  21.338957  ...  20.110674   \n2013-01-15  57.600704  38.150002  32.743206  21.234358  ...  19.967022   \n\n                  WYNN        XEL        XOM       XRAY        XYL        YUM  \\\nDate                                                                            \n2013-01-02   95.529976  19.385836  56.165749  37.213242  23.749273  39.127857   \n2013-01-03   96.557526  19.329191  56.064457  37.112217  23.671537  39.372551   \n2013-01-04   97.722618  19.400000  56.324043  37.433651  23.637007  39.803684   \n2013-01-07   98.054352  19.194668  55.671913  37.562252  23.326099  39.553158   \n2013-01-08   97.973450  19.230074  56.020145  37.130569  23.041113  37.892735   \n2013-01-09   98.321350  19.258394  55.804855  37.112217  23.403828  37.960068   \n2013-01-10   99.437920  19.258394  56.412678  37.038750  23.731987  38.797516   \n2013-01-11   99.510735  19.237150  56.735592  36.671391  23.472908  39.160606   \n2013-01-14   99.356995  19.173429  56.716572  36.561184  23.498819  38.738945   \n2013-01-15  100.166100  19.152187  56.684917  36.359127  23.429733  38.867794   \n\n                  ZBH       ZBRA       ZION  \nDate                                         \n2013-01-02  60.207806  40.959999  17.587208  \n2013-01-03  61.070477  41.000000  17.611206  \n2013-01-04  61.381714  40.669998  18.115057  \n2013-01-07  61.532909  40.900002  18.027084  \n2013-01-08  61.621864  40.930000  17.667183  \n2013-01-09  62.760197  41.369999  17.475239  \n2013-01-10  62.884705  41.150002  17.555218  \n2013-01-11  63.293781  41.299999  17.395258  \n2013-01-14  63.187073  40.980000  17.483234  \n2013-01-15  63.195961  41.139999  17.635189  \n\n[10 rows x 460 columns]",
      "text/html": "<div>\n<style scoped>\n    .dataframe tbody tr th:only-of-type {\n        vertical-align: middle;\n    }\n\n    .dataframe tbody tr th {\n        vertical-align: top;\n    }\n\n    .dataframe thead th {\n        text-align: right;\n    }\n</style>\n<table border=\"1\" class=\"dataframe\">\n  <thead>\n    <tr style=\"text-align: right;\">\n      <th></th>\n      <th>A</th>\n      <th>AAL</th>\n      <th>AAPL</th>\n      <th>ABBV</th>\n      <th>ABT</th>\n      <th>ACGL</th>\n      <th>ACN</th>\n      <th>ADBE</th>\n      <th>ADI</th>\n      <th>ADM</th>\n      <th>...</th>\n      <th>WY</th>\n      <th>WYNN</th>\n      <th>XEL</th>\n      <th>XOM</th>\n      <th>XRAY</th>\n      <th>XYL</th>\n      <th>YUM</th>\n      <th>ZBH</th>\n      <th>ZBRA</th>\n      <th>ZION</th>\n    </tr>\n    <tr>\n      <th>Date</th>\n      <th></th>\n      <th></th>\n      <th></th>\n      <th></th>\n      <th></th>\n      <th></th>\n      <th></th>\n      <th></th>\n      <th></th>\n      <th></th>\n      <th></th>\n      <th></th>\n      <th></th>\n      <th></th>\n      <th></th>\n      <th></th>\n      <th></th>\n      <th></th>\n      <th></th>\n      <th></th>\n      <th></th>\n    </tr>\n  </thead>\n  <tbody>\n    <tr>\n      <th>2013-01-02</th>\n      <td>27.283405</td>\n      <td>13.179525</td>\n      <td>16.769093</td>\n      <td>22.419830</td>\n      <td>26.000973</td>\n      <td>14.793333</td>\n      <td>56.624992</td>\n      <td>38.340000</td>\n      <td>34.286098</td>\n      <td>21.421146</td>\n      <td>...</td>\n      <td>19.033312</td>\n      <td>95.529976</td>\n      <td>19.385836</td>\n      <td>56.165749</td>\n      <td>37.213242</td>\n      <td>23.749273</td>\n      <td>39.127857</td>\n      <td>60.207806</td>\n      <td>40.959999</td>\n      <td>17.587208</td>\n    </tr>\n    <tr>\n      <th>2013-01-03</th>\n      <td>27.381128</td>\n      <td>12.877850</td>\n      <td>16.557428</td>\n      <td>22.234699</td>\n      <td>26.990719</td>\n      <td>14.750000</td>\n      <td>56.419998</td>\n      <td>37.750000</td>\n      <td>33.732830</td>\n      <td>21.249302</td>\n      <td>...</td>\n      <td>19.033312</td>\n      <td>96.557526</td>\n      <td>19.329191</td>\n      <td>56.064457</td>\n      <td>37.112217</td>\n      <td>23.671537</td>\n      <td>39.372551</td>\n      <td>61.070477</td>\n      <td>41.000000</td>\n      <td>17.611206</td>\n    </tr>\n    <tr>\n      <th>2013-01-04</th>\n      <td>27.921843</td>\n      <td>13.886581</td>\n      <td>16.096222</td>\n      <td>21.953815</td>\n      <td>26.828459</td>\n      <td>14.876667</td>\n      <td>56.731575</td>\n      <td>38.130001</td>\n      <td>33.132832</td>\n      <td>21.832092</td>\n      <td>...</td>\n      <td>19.190020</td>\n      <td>97.722618</td>\n      <td>19.400000</td>\n      <td>56.324043</td>\n      <td>37.433651</td>\n      <td>23.637007</td>\n      <td>39.803684</td>\n      <td>61.381714</td>\n      <td>40.669998</td>\n      <td>18.115057</td>\n    </tr>\n    <tr>\n      <th>2013-01-07</th>\n      <td>27.719885</td>\n      <td>13.990280</td>\n      <td>16.001547</td>\n      <td>21.998503</td>\n      <td>27.047497</td>\n      <td>14.730000</td>\n      <td>56.485600</td>\n      <td>37.939999</td>\n      <td>33.234123</td>\n      <td>20.928026</td>\n      <td>...</td>\n      <td>19.248785</td>\n      <td>98.054352</td>\n      <td>19.194668</td>\n      <td>55.671913</td>\n      <td>37.562252</td>\n      <td>23.326099</td>\n      <td>39.553158</td>\n      <td>61.532909</td>\n      <td>40.900002</td>\n      <td>18.027084</td>\n    </tr>\n    <tr>\n      <th>2013-01-08</th>\n      <td>27.498386</td>\n      <td>14.291961</td>\n      <td>16.044611</td>\n      <td>21.519714</td>\n      <td>27.055613</td>\n      <td>14.750000</td>\n      <td>56.813564</td>\n      <td>38.139999</td>\n      <td>32.891258</td>\n      <td>21.174585</td>\n      <td>...</td>\n      <td>19.379377</td>\n      <td>97.973450</td>\n      <td>19.230074</td>\n      <td>56.020145</td>\n      <td>37.130569</td>\n      <td>23.041113</td>\n      <td>37.892735</td>\n      <td>61.621864</td>\n      <td>40.930000</td>\n      <td>17.667183</td>\n    </tr>\n    <tr>\n      <th>2013-01-09</th>\n      <td>28.241058</td>\n      <td>14.263677</td>\n      <td>15.793853</td>\n      <td>21.641014</td>\n      <td>27.234089</td>\n      <td>14.803333</td>\n      <td>57.215347</td>\n      <td>38.660000</td>\n      <td>32.805550</td>\n      <td>21.279190</td>\n      <td>...</td>\n      <td>19.823374</td>\n      <td>98.321350</td>\n      <td>19.258394</td>\n      <td>55.804855</td>\n      <td>37.112217</td>\n      <td>23.403828</td>\n      <td>37.960068</td>\n      <td>62.760197</td>\n      <td>41.369999</td>\n      <td>17.475239</td>\n    </tr>\n    <tr>\n      <th>2013-01-10</th>\n      <td>28.449533</td>\n      <td>14.273106</td>\n      <td>15.989633</td>\n      <td>21.704851</td>\n      <td>27.461245</td>\n      <td>14.836667</td>\n      <td>56.715172</td>\n      <td>38.619999</td>\n      <td>33.202961</td>\n      <td>21.174585</td>\n      <td>...</td>\n      <td>19.940905</td>\n      <td>99.437920</td>\n      <td>19.258394</td>\n      <td>56.412678</td>\n      <td>37.038750</td>\n      <td>23.731987</td>\n      <td>38.797516</td>\n      <td>62.884705</td>\n      <td>41.150002</td>\n      <td>17.555218</td>\n    </tr>\n    <tr>\n      <th>2013-01-11</th>\n      <td>28.293179</td>\n      <td>13.933719</td>\n      <td>15.891588</td>\n      <td>21.866341</td>\n      <td>27.184271</td>\n      <td>14.926667</td>\n      <td>57.297321</td>\n      <td>38.090000</td>\n      <td>32.930241</td>\n      <td>21.174585</td>\n      <td>...</td>\n      <td>20.110674</td>\n      <td>99.510735</td>\n      <td>19.237150</td>\n      <td>56.735592</td>\n      <td>36.671391</td>\n      <td>23.472908</td>\n      <td>39.160606</td>\n      <td>63.293781</td>\n      <td>41.299999</td>\n      <td>17.395258</td>\n    </tr>\n    <tr>\n      <th>2013-01-14</th>\n      <td>28.364840</td>\n      <td>13.830017</td>\n      <td>15.325013</td>\n      <td>22.021378</td>\n      <td>27.176128</td>\n      <td>15.026667</td>\n      <td>57.280918</td>\n      <td>38.160000</td>\n      <td>32.914646</td>\n      <td>21.338957</td>\n      <td>...</td>\n      <td>20.110674</td>\n      <td>99.356995</td>\n      <td>19.173429</td>\n      <td>56.716572</td>\n      <td>36.561184</td>\n      <td>23.498819</td>\n      <td>38.738945</td>\n      <td>63.187073</td>\n      <td>40.980000</td>\n      <td>17.483234</td>\n    </tr>\n    <tr>\n      <th>2013-01-15</th>\n      <td>28.169407</td>\n      <td>13.490630</td>\n      <td>14.841516</td>\n      <td>22.350830</td>\n      <td>26.899151</td>\n      <td>15.000000</td>\n      <td>57.600704</td>\n      <td>38.150002</td>\n      <td>32.743206</td>\n      <td>21.234358</td>\n      <td>...</td>\n      <td>19.967022</td>\n      <td>100.166100</td>\n      <td>19.152187</td>\n      <td>56.684917</td>\n      <td>36.359127</td>\n      <td>23.429733</td>\n      <td>38.867794</td>\n      <td>63.195961</td>\n      <td>41.139999</td>\n      <td>17.635189</td>\n    </tr>\n  </tbody>\n</table>\n<p>10 rows × 460 columns</p>\n</div>"
     },
     "execution_count": 8,
     "metadata": {},
     "output_type": "execute_result"
    }
   ],
   "source": [
    "df.head(10)"
   ],
   "metadata": {
    "collapsed": false,
    "ExecuteTime": {
     "end_time": "2024-03-19T05:58:42.620411Z",
     "start_time": "2024-03-19T05:58:42.604535Z"
    }
   },
   "id": "aca485f175fd7867",
   "execution_count": 8
  },
  {
   "cell_type": "code",
   "outputs": [],
   "source": [
    "scaler = MinMaxScaler(feature_range=(-1, 1))\n",
    "all_data_normalized = []"
   ],
   "metadata": {
    "collapsed": false,
    "ExecuteTime": {
     "end_time": "2024-03-19T05:58:43.663636Z",
     "start_time": "2024-03-19T05:58:43.660153Z"
    }
   },
   "id": "f33d8a0cdc42689e",
   "execution_count": 9
  },
  {
   "cell_type": "code",
   "outputs": [],
   "source": [
    "sequence_length = 30\n",
    "test_size = 0.2\n",
    "\n",
    "X_train_combined, y_train_combined, labels_train_combined = [], [], []\n",
    "X_test_combined, y_test_combined, labels_test_combined = [], [], []"
   ],
   "metadata": {
    "collapsed": false,
    "ExecuteTime": {
     "end_time": "2024-03-19T05:58:44.325462Z",
     "start_time": "2024-03-19T05:58:44.322307Z"
    }
   },
   "id": "6746dd1047104553",
   "execution_count": 10
  },
  {
   "cell_type": "code",
   "outputs": [],
   "source": [
    "class NBeatsBlock(nn.Module):\n",
    "    def __init__(self, input_size, layer_size=64, output_size=None):\n",
    "        super(NBeatsBlock, self).__init__()\n",
    "        self.fc1 = nn.Linear(input_size, layer_size)\n",
    "        self.fc2 = nn.Linear(layer_size, layer_size)\n",
    "        self.fc3 = nn.Linear(layer_size, layer_size)\n",
    "        self.fc4 = nn.Linear(layer_size, output_size if output_size is not None else input_size)\n",
    "        self.output_size = output_size if output_size is not None else input_size\n",
    "\n",
    "    def forward(self, x):\n",
    "        x = F.relu(self.fc1(x))\n",
    "        x = F.relu(self.fc2(x))\n",
    "        x = F.relu(self.fc3(x))\n",
    "        forecast = self.fc4(x)\n",
    "        backcast = x[:, :self.output_size]\n",
    "        return backcast, forecast\n",
    "\n",
    "class NBeatsNet(nn.Module):\n",
    "    def __init__(self, input_size, forecast_length, stack_types=[1, 1], nb_blocks_per_stack=4, layer_size=64, thetas_dim=[4, 8], share_weights_in_stack=False):\n",
    "        super(NBeatsNet, self).__init__()\n",
    "        self.input_size = input_size\n",
    "        self.forecast_length = forecast_length\n",
    "        self.stack_types = stack_types\n",
    "        self.nb_blocks_per_stack = nb_blocks_per_stack\n",
    "\n",
    "        blocks = []\n",
    "        for stack_id in range(len(stack_types)):\n",
    "            for block_id in range(nb_blocks_per_stack):\n",
    "                block_init = NBeatsBlock(input_size=input_size, layer_size=layer_size, output_size=forecast_length) # Adjusted to use 'input_size'\n",
    "                blocks.append(block_init)\n",
    "        self.blocks = nn.ModuleList(blocks)\n",
    "\n",
    "    def forward(self, x):\n",
    "        forecast = torch.zeros(x.size(0), self.forecast_length, device=x.device)  # Adjusted to properly initialize the forecast tensor\n",
    "        for block in self.blocks:\n",
    "            backcast, block_forecast = block(x.view(x.size(0), -1))\n",
    "            forecast += block_forecast.view(forecast.size())\n",
    "        return forecast"
   ],
   "metadata": {
    "collapsed": false,
    "ExecuteTime": {
     "end_time": "2024-03-19T05:58:44.844738Z",
     "start_time": "2024-03-19T05:58:44.840173Z"
    }
   },
   "id": "3a92397e0b44f4bf",
   "execution_count": 11
  },
  {
   "cell_type": "code",
   "outputs": [],
   "source": [
    "def create_sequences(data, sequence_length, label):\n",
    "    X, y, labels = [], [], []\n",
    "    for i in range(len(data) - sequence_length):\n",
    "        X.append(data[i:i + sequence_length])\n",
    "        y.append(data[i + sequence_length])\n",
    "        labels.append(label)\n",
    "    return np.array(X), np.array(y), np.array(labels)"
   ],
   "metadata": {
    "collapsed": false,
    "ExecuteTime": {
     "end_time": "2024-03-19T05:58:45.976070Z",
     "start_time": "2024-03-19T05:58:45.973370Z"
    }
   },
   "id": "bd369e0cbe661dd2",
   "execution_count": 12
  },
  {
   "cell_type": "code",
   "outputs": [],
   "source": [
    "for idx, company in enumerate(df.columns):\n",
    "    company_data = df[company].dropna().values.reshape(-1, 1)  # Ensure clean data\n",
    "\n",
    "    # Normalize data\n",
    "    scaler = MinMaxScaler(feature_range=(-1, 1))\n",
    "    normalized_data = scaler.fit_transform(company_data)\n",
    "\n",
    "    # Check if there's enough data for at least one sequence\n",
    "    if len(normalized_data) <= sequence_length:\n",
    "        print(f\"Skipping {company}: Not enough data for sequence creation.\")\n",
    "        continue\n",
    "\n",
    "    # Calculate the split index\n",
    "    train_size = int(len(normalized_data) * (1 - test_size))\n",
    "    if train_size <= sequence_length:\n",
    "        print(f\"Skipping {company}: Not enough training data after split.\")\n",
    "        continue\n",
    "\n",
    "    # Split data into training and testing\n",
    "    train_data = normalized_data[:train_size]\n",
    "    test_data = normalized_data[train_size - sequence_length:]  # Overlap to ensure continuity\n",
    "\n",
    "    # Create sequences\n",
    "    X_train_tmp, y_train_tmp, labels_train_tmp = create_sequences(train_data, sequence_length, idx)\n",
    "    X_test_tmp, y_test_tmp, labels_test_tmp = create_sequences(test_data, sequence_length, idx)\n",
    "\n",
    "    # Append to combined lists\n",
    "    X_train_combined.extend(X_train_tmp)\n",
    "    y_train_combined.extend(y_train_tmp)\n",
    "    labels_train_combined.extend(labels_train_tmp)\n",
    "    X_test_combined.extend(X_test_tmp)\n",
    "    y_test_combined.extend(y_test_tmp)\n",
    "    labels_test_combined.extend(labels_test_tmp)"
   ],
   "metadata": {
    "collapsed": false,
    "ExecuteTime": {
     "end_time": "2024-03-19T05:59:00.052301Z",
     "start_time": "2024-03-19T05:58:58.951151Z"
    }
   },
   "id": "ac9d5d1b69441008",
   "execution_count": 13
  },
  {
   "cell_type": "code",
   "outputs": [
    {
     "name": "stdout",
     "output_type": "stream",
     "text": [
      "X_train_combined shape: (1003260, 30, 1)\n",
      "y_train_combined shape: (1003260, 1)\n",
      "labels_train_combined shape: (1003260,)\n",
      "X_test_combined shape: (254380, 30, 1)\n",
      "y_test_combined shape: (254380, 1)\n",
      "labels_test_combined shape: (254380,)\n"
     ]
    }
   ],
   "source": [
    "X_train_combined = np.array(X_train_combined)\n",
    "y_train_combined = np.array(y_train_combined).reshape(-1, 1)\n",
    "labels_train_combined = np.array(labels_train_combined)\n",
    "\n",
    "X_test_combined = np.array(X_test_combined)\n",
    "y_test_combined = np.array(y_test_combined).reshape(-1, 1)\n",
    "labels_test_combined = np.array(labels_test_combined)\n",
    "\n",
    "print(f\"X_train_combined shape: {X_train_combined.shape}\")\n",
    "print(f\"y_train_combined shape: {y_train_combined.shape}\")\n",
    "print(f\"labels_train_combined shape: {labels_train_combined.shape}\")\n",
    "print(f\"X_test_combined shape: {X_test_combined.shape}\")\n",
    "print(f\"y_test_combined shape: {y_test_combined.shape}\")\n",
    "print(f\"labels_test_combined shape: {labels_test_combined.shape}\")"
   ],
   "metadata": {
    "collapsed": false,
    "ExecuteTime": {
     "end_time": "2024-03-19T05:59:02.812232Z",
     "start_time": "2024-03-19T05:59:02.199225Z"
    }
   },
   "id": "79117a256676c4ae",
   "execution_count": 14
  },
  {
   "cell_type": "code",
   "outputs": [
    {
     "name": "stderr",
     "output_type": "stream",
     "text": [
      "100%|██████████| 1004/1004 [00:00<00:00, 19339.33it/s]\n",
      "100%|██████████| 1004/1004 [00:00<00:00, 185037.40it/s]\n"
     ]
    }
   ],
   "source": [
    "import numpy as np\n",
    "import torch\n",
    "from tqdm import tqdm\n",
    "\n",
    "def batch_convert_to_tensor(data, batch_size=1000, dtype=torch.float32):\n",
    "    tensor_chunks = []\n",
    "    for i in tqdm(range(0, len(data), batch_size)):\n",
    "        batch = data[i:i+batch_size]\n",
    "        tensor = torch.tensor(batch, dtype=dtype)\n",
    "        tensor_chunks.append(tensor)\n",
    "    return torch.cat(tensor_chunks, dim=0)\n",
    "\n",
    "X_train_tensor = batch_convert_to_tensor(X_train_combined, batch_size=1000)\n",
    "y_train_tensor = batch_convert_to_tensor(y_train_combined, batch_size=1000)"
   ],
   "metadata": {
    "collapsed": false,
    "ExecuteTime": {
     "end_time": "2024-03-19T06:00:18.671035Z",
     "start_time": "2024-03-19T06:00:18.548524Z"
    }
   },
   "id": "9e5a043431cfc56e",
   "execution_count": 15
  },
  {
   "cell_type": "code",
   "outputs": [
    {
     "name": "stdout",
     "output_type": "stream",
     "text": [
      "Epoch 0, Loss: 0.542687177658081\n",
      "Epoch 10, Loss: 0.10188218206167221\n",
      "Epoch 20, Loss: 0.006806014571338892\n",
      "Epoch 30, Loss: 0.01593516394495964\n",
      "Epoch 40, Loss: 0.005261961370706558\n",
      "Epoch 50, Loss: 0.004431381355971098\n",
      "Epoch 60, Loss: 0.003296824172139168\n",
      "Epoch 70, Loss: 0.0027149629313498735\n",
      "Epoch 80, Loss: 0.002212926046922803\n",
      "Epoch 90, Loss: 0.001894076238386333\n"
     ]
    }
   ],
   "source": [
    "input_dim = X_train_combined.shape[1]  # Must match the sequence length\n",
    "forecast_length = 1\n",
    "model = NBeatsNet(input_size=input_dim, forecast_length=forecast_length, layer_size=128)\n",
    "optimizer = optim.Adam(model.parameters(), lr=0.0001)\n",
    "criterion = nn.MSELoss()\n",
    "\n",
    "epochs = 100\n",
    "for epoch in range(epochs):\n",
    "    model.train()\n",
    "    optimizer.zero_grad()\n",
    "    \n",
    "    output = model(X_train_tensor)\n",
    "    loss = criterion(output, y_train_tensor)\n",
    "\n",
    "    loss.backward()\n",
    "    optimizer.step()\n",
    "\n",
    "    if epoch % 10 == 0:  # Print loss every 10 epochs\n",
    "        print(f'Epoch {epoch}, Loss: {loss.item()}')"
   ],
   "metadata": {
    "collapsed": false,
    "ExecuteTime": {
     "end_time": "2024-03-19T06:26:15.775173Z",
     "start_time": "2024-03-19T06:00:32.128232Z"
    }
   },
   "id": "a0eb75145bbda68f",
   "execution_count": 16
  },
  {
   "cell_type": "code",
   "outputs": [
    {
     "name": "stdout",
     "output_type": "stream",
     "text": [
      "A: RMSE=0.0539298914372921, MAE=0.04309481382369995, MAPE=17.38083064556122\n",
      "AAL: RMSE=0.037801243364810944, MAE=0.029009027406573296, MAPE=4.116406291723251\n",
      "AAPL: RMSE=0.052132636308670044, MAE=0.04209161922335625, MAPE=7.6790764927864075\n",
      "ABBV: RMSE=0.045170266181230545, MAE=0.03562921658158302, MAPE=5.731416866183281\n",
      "ABT: RMSE=0.05068519711494446, MAE=0.038899004459381104, MAPE=8.624311536550522\n",
      "ACGL: RMSE=0.04256394878029823, MAE=0.0315229669213295, MAPE=13.223068416118622\n",
      "ACN: RMSE=0.0554458424448967, MAE=0.04335096478462219, MAPE=12.94061541557312\n",
      "ADBE: RMSE=0.060869939625263214, MAE=0.04762870445847511, MAPE=463.38024139404297\n",
      "ADI: RMSE=0.05998693034052849, MAE=0.04738617315888405, MAPE=8.947215229272842\n",
      "ADM: RMSE=0.056686289608478546, MAE=0.04443519562482834, MAPE=11.35617271065712\n",
      "ADP: RMSE=0.05154283344745636, MAE=0.03930899500846863, MAPE=6.318100541830063\n",
      "ADSK: RMSE=0.0657774955034256, MAE=0.04985606670379639, MAPE=113.5631799697876\n",
      "AEE: RMSE=0.05536327511072159, MAE=0.04207329824566841, MAPE=6.394419819116592\n",
      "AEP: RMSE=0.05719931796193123, MAE=0.04343973845243454, MAPE=8.056580275297165\n",
      "AES: RMSE=0.07679653912782669, MAE=0.06000915542244911, MAPE=26.27279758453369\n",
      "AFL: RMSE=0.04921925067901611, MAE=0.039515867829322815, MAPE=2036.7607116699219\n",
      "AIG: RMSE=0.06626427918672562, MAE=0.051056817173957825, MAPE=11.682043224573135\n",
      "AIZ: RMSE=0.05027187615633011, MAE=0.03848768398165703, MAPE=13.47930133342743\n",
      "AJG: RMSE=0.03884437680244446, MAE=0.031382542103528976, MAPE=11.114191263914108\n",
      "AKAM: RMSE=0.06944411247968674, MAE=0.05318590998649597, MAPE=38.82221877574921\n",
      "ALB: RMSE=0.08941580355167389, MAE=0.07283800840377808, MAPE=62.88541555404663\n",
      "ALGN: RMSE=0.06759776175022125, MAE=0.05023130029439926, MAPE=936.3015174865723\n",
      "ALL: RMSE=0.06564891338348389, MAE=0.05035686492919922, MAPE=9.945764392614365\n",
      "AMAT: RMSE=0.07020119577646255, MAE=0.0564509853720665, MAPE=49.7262567281723\n",
      "AMCR: RMSE=0.06430986523628235, MAE=0.04999169334769249, MAPE=24.480685591697693\n",
      "AMD: RMSE=0.07691755890846252, MAE=0.06193741038441658, MAPE=78.51159572601318\n",
      "AME: RMSE=0.0498429499566555, MAE=0.04030119255185127, MAPE=9.206698089838028\n",
      "AMGN: RMSE=0.051750391721725464, MAE=0.04067070037126541, MAPE=7.909872382879257\n",
      "AMP: RMSE=0.05852045118808746, MAE=0.04558102786540985, MAPE=12.609311938285828\n",
      "AMT: RMSE=0.0639210119843483, MAE=0.0507596917450428, MAPE=24.40454810857773\n",
      "AMZN: RMSE=0.06506658345460892, MAE=0.04940918833017349, MAPE=58.3584725856781\n",
      "ANSS: RMSE=0.06504909694194794, MAE=0.0515609048306942, MAPE=126.37269496917725\n",
      "AON: RMSE=0.05312202125787735, MAE=0.04208623617887497, MAPE=6.1226967722177505\n",
      "AOS: RMSE=0.05953538045287132, MAE=0.046601202338933945, MAPE=20.537780225276947\n",
      "APA: RMSE=0.04999436438083649, MAE=0.03872179239988327, MAPE=103.15486192703247\n",
      "APD: RMSE=0.060120247304439545, MAE=0.048202257603406906, MAPE=8.93489122390747\n",
      "APH: RMSE=0.04580126702785492, MAE=0.03690048307180405, MAPE=9.031043946743011\n",
      "APTV: RMSE=0.0735209509730339, MAE=0.05636417865753174, MAPE=442.87519454956055\n",
      "ARE: RMSE=0.06208106130361557, MAE=0.04860997572541237, MAPE=73.11874032020569\n",
      "ATO: RMSE=0.05194301903247833, MAE=0.04107837378978729, MAPE=6.286252290010452\n",
      "AVB: RMSE=0.06292472779750824, MAE=0.04943691939115524, MAPE=99.0990400314331\n",
      "AVGO: RMSE=0.04858560115098953, MAE=0.03467832878232002, MAPE=67.63880252838135\n",
      "AVY: RMSE=0.05278699845075607, MAE=0.042007721960544586, MAPE=7.722394168376923\n",
      "AWK: RMSE=0.05351710319519043, MAE=0.041826896369457245, MAPE=9.274647384881973\n",
      "AXON: RMSE=0.06316378712654114, MAE=0.048002056777477264, MAPE=127.79005765914917\n",
      "AXP: RMSE=0.07981214672327042, MAE=0.06188831850886345, MAPE=12.312478572130203\n",
      "AZO: RMSE=0.05562789738178253, MAE=0.04422631114721298, MAPE=8.218928426504135\n",
      "BA: RMSE=0.04541732743382454, MAE=0.035738203674554825, MAPE=20.252811908721924\n",
      "BAC: RMSE=0.06600441783666611, MAE=0.0523076169192791, MAPE=138.85834217071533\n",
      "BALL: RMSE=0.06552260369062424, MAE=0.047902029007673264, MAPE=72.03068137168884\n",
      "BAX: RMSE=0.060560114681720734, MAE=0.047702692449092865, MAPE=22.832371294498444\n",
      "BBWI: RMSE=0.06740928441286087, MAE=0.0524064302444458, MAPE=72.21300005912781\n",
      "BBY: RMSE=0.05607116222381592, MAE=0.040860582143068314, MAPE=643.4154510498047\n",
      "BDX: RMSE=0.051707442849874496, MAE=0.04041748866438866, MAPE=6.202432885766029\n",
      "BEN: RMSE=0.07486779987812042, MAE=0.05649743601679802, MAPE=105.29438257217407\n",
      "BG: RMSE=0.06054528057575226, MAE=0.047324299812316895, MAPE=12.299759685993195\n",
      "BIIB: RMSE=0.05385703966021538, MAE=0.037627656012773514, MAPE=48.271822929382324\n",
      "BIO: RMSE=0.05868462473154068, MAE=0.04418382793664932, MAPE=100.03244876861572\n",
      "BK: RMSE=0.07226117700338364, MAE=0.056345321238040924, MAPE=80.30079007148743\n",
      "BKNG: RMSE=0.0685671865940094, MAE=0.05239446088671684, MAPE=71.04711532592773\n",
      "BKR: RMSE=0.07384073734283447, MAE=0.05480360984802246, MAPE=62.243884801864624\n",
      "BLDR: RMSE=0.056320562958717346, MAE=0.042327623814344406, MAPE=47.80922532081604\n",
      "BLK: RMSE=0.0629635602235794, MAE=0.050306107848882675, MAPE=20.51509916782379\n",
      "BMY: RMSE=0.051572442054748535, MAE=0.03976660221815109, MAPE=89.30497765541077\n",
      "BR: RMSE=0.04443172365427017, MAE=0.03613527491688728, MAPE=8.026783168315887\n",
      "BRO: RMSE=0.054235853254795074, MAE=0.043076593428850174, MAPE=7.550141215324402\n",
      "BSX: RMSE=0.04576180875301361, MAE=0.035687290132045746, MAPE=7.233542203903198\n",
      "BWA: RMSE=0.07774301618337631, MAE=0.060921087861061096, MAPE=82.48828649520874\n",
      "BX: RMSE=0.07888803631067276, MAE=0.0609709769487381, MAPE=26.497018337249756\n",
      "BXP: RMSE=0.07508145272731781, MAE=0.0573883131146431, MAPE=45.422473549842834\n",
      "C: RMSE=0.07722529768943787, MAE=0.062196314334869385, MAPE=71.70756459236145\n",
      "CAG: RMSE=0.06559308618307114, MAE=0.04962683096528053, MAPE=35.3180855512619\n",
      "CAH: RMSE=0.05195458233356476, MAE=0.04010159894824028, MAPE=32.904091477394104\n",
      "CAT: RMSE=0.06412677466869354, MAE=0.04998655244708061, MAPE=27.822446823120117\n",
      "CB: RMSE=0.05213014781475067, MAE=0.041524145752191544, MAPE=6.97263702750206\n",
      "CBOE: RMSE=0.03498384729027748, MAE=0.027883214876055717, MAPE=21.507924795150757\n",
      "CBRE: RMSE=0.06162742152810097, MAE=0.04918590188026428, MAPE=19.55134868621826\n",
      "CCI: RMSE=0.06292895972728729, MAE=0.048588890582323074, MAPE=37.55425810813904\n",
      "CCL: RMSE=0.036838043481111526, MAE=0.02858571708202362, MAPE=4.261510819196701\n",
      "CDNS: RMSE=0.05250106379389763, MAE=0.04197106882929802, MAPE=45.8267867565155\n",
      "CE: RMSE=0.07212468236684799, MAE=0.05641397461295128, MAPE=77.41830945014954\n",
      "CF: RMSE=0.07234528660774231, MAE=0.05631795898079872, MAPE=76.48378610610962\n",
      "CHD: RMSE=0.05160852521657944, MAE=0.04016641527414322, MAPE=6.559047102928162\n",
      "CHRW: RMSE=0.07673391699790955, MAE=0.05815042927861214, MAPE=15.197199583053589\n",
      "CHTR: RMSE=0.049885693937540054, MAE=0.03798854723572731, MAPE=109.16050672531128\n",
      "CI: RMSE=0.053316716104745865, MAE=0.04128466174006462, MAPE=20.718707144260406\n",
      "CINF: RMSE=0.06106104329228401, MAE=0.046357568353414536, MAPE=11.327089369297028\n",
      "CL: RMSE=0.06888289004564285, MAE=0.05409233644604683, MAPE=8.37022289633751\n",
      "CLX: RMSE=0.05580391734838486, MAE=0.041402481496334076, MAPE=132.8102707862854\n",
      "CMA: RMSE=0.08474590629339218, MAE=0.06376643478870392, MAPE=36.33567988872528\n",
      "CMCSA: RMSE=0.05428320914506912, MAE=0.04219687730073929, MAPE=87.70309090614319\n",
      "CME: RMSE=0.042529232800006866, MAE=0.03150743991136551, MAPE=5.602698028087616\n",
      "CMG: RMSE=0.06050269678235054, MAE=0.04802940413355827, MAPE=36.535415053367615\n",
      "CMI: RMSE=0.059124406427145004, MAE=0.047325197607278824, MAPE=9.889627248048782\n",
      "CMS: RMSE=0.05433465167880058, MAE=0.04132508486509323, MAPE=7.05384686589241\n",
      "CNC: RMSE=0.053805116564035416, MAE=0.04175606369972229, MAPE=8.921041339635849\n",
      "CNP: RMSE=0.06587235629558563, MAE=0.050107844173908234, MAPE=8.297337591648102\n",
      "COF: RMSE=0.07587641477584839, MAE=0.060679756104946136, MAPE=341.69931411743164\n",
      "COO: RMSE=0.06276343762874603, MAE=0.0494108684360981, MAPE=50.7011353969574\n",
      "COP: RMSE=0.07100816816091537, MAE=0.0540478378534317, MAPE=30.49296736717224\n",
      "COR: RMSE=0.04060996696352959, MAE=0.033111829310655594, MAPE=51.97206735610962\n",
      "COST: RMSE=0.04684101417660713, MAE=0.03516643866896629, MAPE=9.058138728141785\n",
      "CPB: RMSE=0.06932507455348969, MAE=0.054179973900318146, MAPE=78.33009362220764\n",
      "CPRT: RMSE=0.04438553377985954, MAE=0.0348406583070755, MAPE=60.06153225898743\n",
      "CPT: RMSE=0.05168532207608223, MAE=0.04077597334980965, MAPE=187.52628564834595\n",
      "CRL: RMSE=0.054031360894441605, MAE=0.04062771052122116, MAPE=85.15519499778748\n",
      "CRM: RMSE=0.05857007950544357, MAE=0.046638373285532, MAPE=53.88575196266174\n",
      "CSCO: RMSE=0.05289555341005325, MAE=0.04088573902845383, MAPE=11.184483766555786\n",
      "CSGP: RMSE=0.06416229158639908, MAE=0.04822789132595062, MAPE=51.10427737236023\n",
      "CSX: RMSE=0.051566723734140396, MAE=0.041745029389858246, MAPE=6.453638523817062\n",
      "CTAS: RMSE=0.0386754535138607, MAE=0.02975928783416748, MAPE=8.914515376091003\n",
      "CTRA: RMSE=0.0991012454032898, MAE=0.0741390585899353, MAPE=40.17490744590759\n",
      "CTSH: RMSE=0.06296646595001221, MAE=0.049911513924598694, MAPE=67.11349487304688\n",
      "CVS: RMSE=0.06918217986822128, MAE=0.055251725018024445, MAPE=65.66758751869202\n",
      "CVX: RMSE=0.06990624964237213, MAE=0.05098085477948189, MAPE=17.126187682151794\n",
      "D: RMSE=0.07396339625120163, MAE=0.056506622582674026, MAPE=38.158148527145386\n",
      "DAL: RMSE=0.07308172434568405, MAE=0.05649289861321449, MAPE=303.2400369644165\n",
      "DD: RMSE=0.0645456314086914, MAE=0.04946592450141907, MAPE=35.86978614330292\n",
      "DE: RMSE=0.06380820274353027, MAE=0.049874573945999146, MAPE=8.482575416564941\n",
      "DFS: RMSE=0.08161704987287521, MAE=0.06496579945087433, MAPE=15.447576344013214\n",
      "DG: RMSE=0.06893391162157059, MAE=0.04953153431415558, MAPE=15.163810551166534\n",
      "DGX: RMSE=0.05296631157398224, MAE=0.04000755771994591, MAPE=8.131314814090729\n",
      "DHI: RMSE=0.05088840797543526, MAE=0.038549263030290604, MAPE=70.7880973815918\n",
      "DHR: RMSE=0.05496680736541748, MAE=0.043178435415029526, MAPE=8.537281304597855\n",
      "DIS: RMSE=0.05837902054190636, MAE=0.045781999826431274, MAPE=31.85977339744568\n",
      "DLR: RMSE=0.05922004580497742, MAE=0.04748360067605972, MAPE=106.72948360443115\n",
      "DLTR: RMSE=0.0865594893693924, MAE=0.05920951068401337, MAPE=23.103564977645874\n",
      "DOV: RMSE=0.05333497375249863, MAE=0.04239415004849434, MAPE=10.515188425779343\n",
      "DPZ: RMSE=0.04906586930155754, MAE=0.03762019798159599, MAPE=39.16090428829193\n",
      "DRI: RMSE=0.05081210657954216, MAE=0.039905574172735214, MAPE=9.989234805107117\n",
      "DTE: RMSE=0.05443526431918144, MAE=0.04140845313668251, MAPE=7.74417519569397\n",
      "DUK: RMSE=0.06380245834589005, MAE=0.048617202788591385, MAPE=8.626941591501236\n",
      "DVA: RMSE=0.08891454339027405, MAE=0.0650116503238678, MAPE=82.69964456558228\n",
      "DVN: RMSE=0.07776737213134766, MAE=0.05811700224876404, MAPE=43.30480992794037\n",
      "DXCM: RMSE=0.06630142778158188, MAE=0.052704960107803345, MAPE=89.45279121398926\n",
      "EA: RMSE=0.052274592220783234, MAE=0.04064635559916496, MAPE=5.977902561426163\n",
      "EBAY: RMSE=0.057729572057724, MAE=0.04528464749455452, MAPE=14112.077331542969\n",
      "ECL: RMSE=0.062377750873565674, MAE=0.048380281776189804, MAPE=400.14538764953613\n",
      "ED: RMSE=0.06789475679397583, MAE=0.05248166248202324, MAPE=10.425005853176117\n",
      "EFX: RMSE=0.0655079185962677, MAE=0.051385682076215744, MAPE=65.80792665481567\n",
      "EG: RMSE=0.05741603672504425, MAE=0.04419386386871338, MAPE=48.27929437160492\n",
      "EIX: RMSE=0.08184105157852173, MAE=0.06280165910720825, MAPE=15.958265960216522\n",
      "EL: RMSE=0.062062885612249374, MAE=0.04771391674876213, MAPE=27.695491909980774\n",
      "ELV: RMSE=0.053025923669338226, MAE=0.04046155512332916, MAPE=5.9014830738306046\n",
      "EMN: RMSE=0.0702500119805336, MAE=0.053404539823532104, MAPE=106.61466121673584\n",
      "EMR: RMSE=0.06948734819889069, MAE=0.055333878844976425, MAPE=10.701501369476318\n",
      "ENPH: RMSE=0.0927143394947052, MAE=0.07065167278051376, MAPE=166.59812927246094\n",
      "EOG: RMSE=0.07623022794723511, MAE=0.05890743061900139, MAPE=22.352851927280426\n",
      "EPAM: RMSE=0.07993238419294357, MAE=0.052797675132751465, MAPE=71.33004069328308\n",
      "EQIX: RMSE=0.05940413475036621, MAE=0.04670992121100426, MAPE=10.351541638374329\n",
      "EQR: RMSE=0.06336073577404022, MAE=0.050690650939941406, MAPE=148.70914220809937\n",
      "EQT: RMSE=0.08077948540449142, MAE=0.05902640521526337, MAPE=65.66805839538574\n",
      "ES: RMSE=0.06267019361257553, MAE=0.049243975430727005, MAPE=41.04002118110657\n",
      "ESS: RMSE=0.05766362324357033, MAE=0.0455365814268589, MAPE=119.91055011749268\n",
      "ETN: RMSE=0.04930432140827179, MAE=0.039226654917001724, MAPE=51.34021043777466\n",
      "ETR: RMSE=0.06339893490076065, MAE=0.050135884433984756, MAPE=8.711767196655273\n",
      "EVRG: RMSE=0.059352703392505646, MAE=0.04601183161139488, MAPE=8.23628157377243\n",
      "EW: RMSE=0.06041582301259041, MAE=0.04563623666763306, MAPE=55.21652698516846\n",
      "EXC: RMSE=0.06310714781284332, MAE=0.04738134145736694, MAPE=9.3899667263031\n",
      "EXPD: RMSE=0.06144664064049721, MAE=0.04822646081447601, MAPE=11.193890124559402\n",
      "EXPE: RMSE=0.0892362967133522, MAE=0.06520472466945648, MAPE=118.33113431930542\n",
      "EXR: RMSE=0.06092322990298271, MAE=0.047569990158081055, MAPE=55.41086792945862\n",
      "F: RMSE=0.07512792199850082, MAE=0.05503010377287865, MAPE=53.77224087715149\n",
      "FANG: RMSE=0.07027338445186615, MAE=0.05296141281723976, MAPE=17.607511579990387\n",
      "FAST: RMSE=0.05014592781662941, MAE=0.03930366411805153, MAPE=8.998090773820877\n",
      "FCX: RMSE=0.07754644751548767, MAE=0.06057589501142502, MAPE=31.336840987205505\n",
      "FDS: RMSE=0.056285031139850616, MAE=0.04435253143310547, MAPE=6.769485771656036\n",
      "FDX: RMSE=0.06995641440153122, MAE=0.053202271461486816, MAPE=34.42610502243042\n",
      "FE: RMSE=0.07157022505998611, MAE=0.05601578578352928, MAPE=20.265477895736694\n",
      "FFIV: RMSE=0.058469295501708984, MAE=0.04508379474282265, MAPE=96.78467512130737\n",
      "FI: RMSE=0.048997391015291214, MAE=0.0388927087187767, MAPE=8.654842525720596\n",
      "FICO: RMSE=0.04375811293721199, MAE=0.03209036961197853, MAPE=34.58850383758545\n",
      "FIS: RMSE=0.06159796938300133, MAE=0.04584135487675667, MAPE=63.46535086631775\n",
      "FITB: RMSE=0.07620804011821747, MAE=0.057832520455121994, MAPE=108.27648639678955\n",
      "FLT: RMSE=0.05701755732297897, MAE=0.04466991871595383, MAPE=93.47895979881287\n",
      "FMC: RMSE=0.06120971590280533, MAE=0.04768555611371994, MAPE=12.498340010643005\n",
      "FRT: RMSE=0.08127845078706741, MAE=0.06381562352180481, MAPE=236.68975830078125\n",
      "FSLR: RMSE=0.08159482479095459, MAE=0.05679220333695412, MAPE=107.4816346168518\n",
      "FTNT: RMSE=0.07812206447124481, MAE=0.05888159200549126, MAPE=14.842551946640015\n",
      "GD: RMSE=0.04627440124750137, MAE=0.036510974168777466, MAPE=5.631447583436966\n",
      "GE: RMSE=0.03694111853837967, MAE=0.02880835346877575, MAPE=31.163707375526428\n",
      "GEN: RMSE=0.06522519886493683, MAE=0.049362149089574814, MAPE=37.50040531158447\n",
      "GILD: RMSE=0.05587424337863922, MAE=0.04249688237905502, MAPE=135.59815883636475\n",
      "GIS: RMSE=0.050162557512521744, MAE=0.037921175360679626, MAPE=24.56451952457428\n",
      "GL: RMSE=0.05106138065457344, MAE=0.041446346789598465, MAPE=8.580493181943893\n",
      "GLW: RMSE=0.05961105599999428, MAE=0.045705147087574005, MAPE=12.865108251571655\n",
      "GM: RMSE=0.07682178914546967, MAE=0.05895252525806427, MAPE=85.15679836273193\n",
      "GNRC: RMSE=0.05960143357515335, MAE=0.04344072565436363, MAPE=258.7299108505249\n",
      "GOOG: RMSE=0.06379670649766922, MAE=0.05092077702283859, MAPE=18.054553866386414\n",
      "GOOGL: RMSE=0.06386293470859528, MAE=0.05089293792843819, MAPE=21.789194643497467\n",
      "GPC: RMSE=0.05466926470398903, MAE=0.04244113713502884, MAPE=18.367770314216614\n",
      "GPN: RMSE=0.05049992352724075, MAE=0.03900940343737602, MAPE=86.81912422180176\n",
      "GRMN: RMSE=0.04352467879652977, MAE=0.03209993243217468, MAPE=93.65494847297668\n",
      "GS: RMSE=0.07535243034362793, MAE=0.06076312065124512, MAPE=13.686034083366394\n",
      "GWW: RMSE=0.05228147655725479, MAE=0.04012546315789223, MAPE=124.6464490890503\n",
      "HAL: RMSE=0.05770048871636391, MAE=0.04513894021511078, MAPE=69.74488496780396\n",
      "HAS: RMSE=0.0596252866089344, MAE=0.04730193689465523, MAPE=34.097859263420105\n",
      "HBAN: RMSE=0.08640322089195251, MAE=0.06614219397306442, MAPE=81.3638985157013\n",
      "HCA: RMSE=0.05675123259425163, MAE=0.04193570092320442, MAPE=21.167610585689545\n",
      "HD: RMSE=0.04900653287768364, MAE=0.0377764031291008, MAPE=8.37569311261177\n",
      "HES: RMSE=0.07819178700447083, MAE=0.06084762141108513, MAPE=48.29947650432587\n",
      "HIG: RMSE=0.05004316195845604, MAE=0.03926832228899002, MAPE=6.808929890394211\n",
      "HII: RMSE=0.051449574530124664, MAE=0.0394405759871006, MAPE=7.554779201745987\n",
      "HOLX: RMSE=0.05340323597192764, MAE=0.041003670543432236, MAPE=7.245801389217377\n",
      "HON: RMSE=0.04974941164255142, MAE=0.04010435566306114, MAPE=6.5382711589336395\n",
      "HPQ: RMSE=0.06486169993877411, MAE=0.04867297783493996, MAPE=10.048889368772507\n",
      "HRL: RMSE=0.052557606250047684, MAE=0.038880228996276855, MAPE=29.011303186416626\n",
      "HSIC: RMSE=0.06927464157342911, MAE=0.05465506762266159, MAPE=19.36311274766922\n",
      "HST: RMSE=0.1164257824420929, MAE=0.09373302012681961, MAPE=31.37424886226654\n",
      "HSY: RMSE=0.03926552087068558, MAE=0.030029240995645523, MAPE=9.687139093875885\n",
      "HUBB: RMSE=0.055212222039699554, MAE=0.04266256093978882, MAPE=84.83995795249939\n",
      "HUM: RMSE=0.059647440910339355, MAE=0.04435577988624573, MAPE=7.575298845767975\n",
      "IBM: RMSE=0.07405679672956467, MAE=0.059343982487916946, MAPE=98.75766634941101\n",
      "ICE: RMSE=0.050196025520563126, MAE=0.03833373263478279, MAPE=8.080276846885681\n",
      "IDXX: RMSE=0.059209488332271576, MAE=0.04640217125415802, MAPE=77.80395150184631\n",
      "IEX: RMSE=0.048182614147663116, MAE=0.038950782269239426, MAPE=5.969516932964325\n",
      "IFF: RMSE=0.0895751565694809, MAE=0.06678450852632523, MAPE=39.82904255390167\n",
      "ILMN: RMSE=0.05433596670627594, MAE=0.04070615768432617, MAPE=14.887668192386627\n",
      "INCY: RMSE=0.03237415477633476, MAE=0.024073995649814606, MAPE=26.256495714187622\n",
      "INTC: RMSE=0.0667802169919014, MAE=0.052728235721588135, MAPE=94.12490725517273\n",
      "INTU: RMSE=0.059919070452451706, MAE=0.04743007943034172, MAPE=46.98024392127991\n",
      "IP: RMSE=0.07170876115560532, MAE=0.05409518629312515, MAPE=89.28568363189697\n",
      "IPG: RMSE=0.0642259493470192, MAE=0.05039050057530403, MAPE=17.23800152540207\n",
      "IRM: RMSE=0.05994381755590439, MAE=0.04674016684293747, MAPE=56.976133584976196\n",
      "ISRG: RMSE=0.0700049176812172, MAE=0.054511908441782, MAPE=133.66968631744385\n",
      "IT: RMSE=0.05591035261750221, MAE=0.042140159755945206, MAPE=70.8454966545105\n",
      "ITW: RMSE=0.04903223365545273, MAE=0.03908733278512955, MAPE=7.842184603214264\n",
      "IVZ: RMSE=0.06735669076442719, MAE=0.052819401025772095, MAPE=131.53492212295532\n",
      "J: RMSE=0.056728512048721313, MAE=0.04487709328532219, MAPE=7.081814110279083\n",
      "JBHT: RMSE=0.0711793601512909, MAE=0.0544864796102047, MAPE=10.307158529758453\n",
      "JBL: RMSE=0.06286581605672836, MAE=0.044402316212654114, MAPE=41.36068820953369\n",
      "JCI: RMSE=0.06919579952955246, MAE=0.054292187094688416, MAPE=81.8552553653717\n",
      "JKHY: RMSE=0.05394279584288597, MAE=0.04161105677485466, MAPE=8.27229842543602\n",
      "JNJ: RMSE=0.04849718138575554, MAE=0.03740681707859039, MAPE=5.001024156808853\n",
      "JNPR: RMSE=0.07205137610435486, MAE=0.056196440011262894, MAPE=15.337817370891571\n",
      "JPM: RMSE=0.05864248797297478, MAE=0.04512486606836319, MAPE=22.665250301361084\n",
      "K: RMSE=0.07674914598464966, MAE=0.06048927456140518, MAPE=148.50034713745117\n",
      "KDP: RMSE=0.04267489165067673, MAE=0.033795569092035294, MAPE=4.699898883700371\n",
      "KEY: RMSE=0.0826348066329956, MAE=0.062170032411813736, MAPE=66.62920117378235\n",
      "KIM: RMSE=0.07064926624298096, MAE=0.055571530014276505, MAPE=13.970817625522614\n",
      "KLAC: RMSE=0.061706073582172394, MAE=0.050054557621479034, MAPE=124.58057403564453\n",
      "KMB: RMSE=0.05719594657421112, MAE=0.04246927425265312, MAPE=8.011268824338913\n",
      "KMI: RMSE=0.044090744107961655, MAE=0.033233799040317535, MAPE=57.33023285865784\n",
      "KMX: RMSE=0.0697036162018776, MAE=0.052992891520261765, MAPE=123911.16943359375\n",
      "KO: RMSE=0.05947841331362724, MAE=0.04669440537691116, MAPE=6.648366153240204\n",
      "KR: RMSE=0.05608226731419563, MAE=0.038515012711286545, MAPE=9.106845408678055\n",
      "L: RMSE=0.05931809917092323, MAE=0.04667187109589577, MAPE=23.692525923252106\n",
      "LDOS: RMSE=0.048530980944633484, MAE=0.035917676985263824, MAPE=6.811988353729248\n",
      "LEN: RMSE=0.05639931187033653, MAE=0.04348808526992798, MAPE=34.44114625453949\n",
      "LH: RMSE=0.05759064853191376, MAE=0.044160280376672745, MAPE=13.17625343799591\n",
      "LHX: RMSE=0.05451824888586998, MAE=0.041226714849472046, MAPE=8.067160099744797\n",
      "LIN: RMSE=0.0477432981133461, MAE=0.03816172108054161, MAPE=14.06099945306778\n",
      "LKQ: RMSE=0.06412290036678314, MAE=0.05075123906135559, MAPE=8.201513439416885\n",
      "LLY: RMSE=0.047054462134838104, MAE=0.03285208344459534, MAPE=82.48105049133301\n",
      "LMT: RMSE=0.05368921905755997, MAE=0.04027429595589638, MAPE=7.084590941667557\n",
      "LNT: RMSE=0.058060355484485626, MAE=0.04438583925366402, MAPE=7.199320942163467\n",
      "LOW: RMSE=0.051437001675367355, MAE=0.04075440391898155, MAPE=7.442659139633179\n",
      "LRCX: RMSE=0.06620102375745773, MAE=0.05330318212509155, MAPE=84.50373411178589\n",
      "LULU: RMSE=0.0655769407749176, MAE=0.04995445907115936, MAPE=45.1569527387619\n",
      "LUV: RMSE=0.05992354080080986, MAE=0.04780657961964607, MAPE=121.85342311859131\n",
      "LVS: RMSE=0.09178578853607178, MAE=0.07297921180725098, MAPE=29.241225123405457\n",
      "LYB: RMSE=0.06946805864572525, MAE=0.05467705801129341, MAPE=12.219280749559402\n",
      "LYV: RMSE=0.06911522895097733, MAE=0.051310449838638306, MAPE=62.319326400756836\n",
      "MA: RMSE=0.057287830859422684, MAE=0.04523178189992905, MAPE=7.8239016234874725\n",
      "MAA: RMSE=0.05084555968642235, MAE=0.03999899700284004, MAPE=37.36911118030548\n",
      "MAR: RMSE=0.0631738230586052, MAE=0.05086221918463707, MAPE=18.342487514019012\n",
      "MAS: RMSE=0.060830842703580856, MAE=0.04878596216440201, MAPE=14.399906992912292\n",
      "MCD: RMSE=0.04617951810359955, MAE=0.03800216689705849, MAPE=6.242333352565765\n",
      "MCHP: RMSE=0.07298174500465393, MAE=0.05758986994624138, MAPE=15.259425342082977\n",
      "MCK: RMSE=0.04507974162697792, MAE=0.0353282131254673, MAPE=16.15879088640213\n",
      "MCO: RMSE=0.0525592640042305, MAE=0.041679780930280685, MAPE=9.374836087226868\n",
      "MDLZ: RMSE=0.048298027366399765, MAE=0.03721584007143974, MAPE=7.864116877317429\n",
      "MDT: RMSE=0.04876777157187462, MAE=0.03863563388586044, MAPE=95.47405242919922\n",
      "MET: RMSE=0.07063236832618713, MAE=0.05568530037999153, MAPE=14.077609777450562\n",
      "META: RMSE=0.06396649777889252, MAE=0.04816564917564392, MAPE=62.30173707008362\n",
      "MGM: RMSE=0.07676080614328384, MAE=0.06103159859776497, MAPE=32.77307450771332\n",
      "MHK: RMSE=0.04988090693950653, MAE=0.0378461554646492, MAPE=24.681198596954346\n",
      "MKC: RMSE=0.05900660529732704, MAE=0.04399869590997696, MAPE=57.09732174873352\n",
      "MKTX: RMSE=0.048700928688049316, MAE=0.0362531840801239, MAPE=30.221477150917053\n",
      "MLM: RMSE=0.05378924682736397, MAE=0.04339567571878433, MAPE=16.49196147918701\n",
      "MMC: RMSE=0.04242914170026779, MAE=0.034328922629356384, MAPE=6.069235131144524\n",
      "MMM: RMSE=0.05245308205485344, MAE=0.04062385484576225, MAPE=401.27429962158203\n",
      "MNST: RMSE=0.04871273785829544, MAE=0.03772265836596489, MAPE=8.000852167606354\n",
      "MO: RMSE=0.05716270953416824, MAE=0.042546842247247696, MAPE=9.102509170770645\n",
      "MOH: RMSE=0.05416790023446083, MAE=0.043826304376125336, MAPE=7.721702754497528\n",
      "MOS: RMSE=0.07037835568189621, MAE=0.05213145911693573, MAPE=46.423593163490295\n",
      "MPC: RMSE=0.057607151567935944, MAE=0.0444696843624115, MAPE=51.347899436950684\n",
      "MPWR: RMSE=0.0832468718290329, MAE=0.0660749226808548, MAPE=76.8838107585907\n",
      "MRK: RMSE=0.04936691001057625, MAE=0.039501238614320755, MAPE=131.47737979888916\n",
      "MRO: RMSE=0.07408612966537476, MAE=0.056095048785209656, MAPE=25.93320906162262\n",
      "MS: RMSE=0.06589137762784958, MAE=0.052635569125413895, MAPE=9.478755295276642\n",
      "MSCI: RMSE=0.059991445392370224, MAE=0.04703671485185623, MAPE=12.119526416063309\n",
      "MSFT: RMSE=0.046681959182024, MAE=0.038388561457395554, MAPE=10.526379197835922\n",
      "MSI: RMSE=0.0454854890704155, MAE=0.03633704036474228, MAPE=11.238621175289154\n",
      "MTB: RMSE=0.10129900276660919, MAE=0.07945293933153152, MAPE=63.105374574661255\n",
      "MTCH: RMSE=0.050416626036167145, MAE=0.03744478523731232, MAPE=396.7548370361328\n",
      "MTD: RMSE=0.05820690095424652, MAE=0.04599902033805847, MAPE=12.176761776208878\n",
      "MU: RMSE=0.0705021545290947, MAE=0.053726278245449066, MAPE=57.25131034851074\n",
      "NDAQ: RMSE=0.050314903259277344, MAE=0.039688970893621445, MAPE=7.07644447684288\n",
      "NDSN: RMSE=0.05161252245306969, MAE=0.0407949723303318, MAPE=6.51630237698555\n",
      "NEE: RMSE=0.06258736550807953, MAE=0.04741917923092842, MAPE=21.69317603111267\n",
      "NEM: RMSE=0.057087626308202744, MAE=0.04443388059735298, MAPE=71.2666392326355\n",
      "NFLX: RMSE=0.06450778990983963, MAE=0.04677549749612808, MAPE=49.53107237815857\n",
      "NI: RMSE=0.05624889209866524, MAE=0.04147233068943024, MAPE=6.431465595960617\n",
      "NKE: RMSE=0.056051187217235565, MAE=0.044253718107938766, MAPE=78.29046845436096\n",
      "NOC: RMSE=0.053360339254140854, MAE=0.040010325610637665, MAPE=7.238161563873291\n",
      "NOW: RMSE=0.06879740953445435, MAE=0.05492863431572914, MAPE=171.88172340393066\n",
      "NRG: RMSE=0.06670718640089035, MAE=0.05096600949764252, MAPE=19.463276863098145\n",
      "NSC: RMSE=0.05463098734617233, MAE=0.04344542324542999, MAPE=9.044115990400314\n",
      "NTAP: RMSE=0.06587519496679306, MAE=0.0499296672642231, MAPE=13.12662810087204\n",
      "NTRS: RMSE=0.07731030881404877, MAE=0.0599302314221859, MAPE=60.66991686820984\n",
      "NUE: RMSE=0.08592960238456726, MAE=0.06636695563793182, MAPE=47.23595082759857\n",
      "NVDA: RMSE=0.0713101252913475, MAE=0.055313415825366974, MAPE=42.9617315530777\n",
      "NVR: RMSE=0.04965049400925636, MAE=0.039204325526952744, MAPE=77.39176750183105\n",
      "NXPI: RMSE=0.06557683646678925, MAE=0.05248021334409714, MAPE=12.845408916473389\n",
      "O: RMSE=0.056193508207798004, MAE=0.044033683836460114, MAPE=10.50170436501503\n",
      "ODFL: RMSE=0.06216956302523613, MAE=0.04953664541244507, MAPE=18.889515101909637\n",
      "OKE: RMSE=0.06711622327566147, MAE=0.052864186465740204, MAPE=9.457796812057495\n",
      "OMC: RMSE=0.07571342587471008, MAE=0.05900513008236885, MAPE=113.64649534225464\n",
      "ON: RMSE=0.07818841934204102, MAE=0.06264304369688034, MAPE=76.90321207046509\n",
      "ORCL: RMSE=0.06251203268766403, MAE=0.04687816649675369, MAPE=141.469144821167\n",
      "ORLY: RMSE=0.04682076722383499, MAE=0.03678133711218834, MAPE=9.67344343662262\n",
      "OXY: RMSE=0.07656518369913101, MAE=0.05525036156177521, MAPE=14.749065041542053\n",
      "PANW: RMSE=0.05793112888932228, MAE=0.04586968198418617, MAPE=115.94305038452148\n",
      "PARA: RMSE=0.037753332406282425, MAE=0.027960216626524925, MAPE=4.544297233223915\n",
      "PAYX: RMSE=0.05509551241993904, MAE=0.04346635937690735, MAPE=6.500712037086487\n",
      "PCAR: RMSE=0.04348800703883171, MAE=0.03450137749314308, MAPE=239.7143840789795\n",
      "PCG: RMSE=0.012265878729522228, MAE=0.009244854561984539, MAPE=1.3523615896701813\n",
      "PEAK: RMSE=0.08019313961267471, MAE=0.06361386179924011, MAPE=63.2162868976593\n",
      "PEG: RMSE=0.055690210312604904, MAE=0.04376987740397453, MAPE=7.7939726412296295\n",
      "PEP: RMSE=0.04147075116634369, MAE=0.03266866132616997, MAPE=5.12598492205143\n",
      "PFE: RMSE=0.06722510606050491, MAE=0.05053206905722618, MAPE=41.24922454357147\n",
      "PFG: RMSE=0.06581089645624161, MAE=0.05030694603919983, MAPE=13.11512291431427\n",
      "PG: RMSE=0.054734837263822556, MAE=0.044714417308568954, MAPE=6.220735237002373\n",
      "PGR: RMSE=0.044322170317173004, MAE=0.03412932530045509, MAPE=14.905193448066711\n",
      "PH: RMSE=0.05331658199429512, MAE=0.04205971583724022, MAPE=162.83444166183472\n",
      "PHM: RMSE=0.046469587832689285, MAE=0.03556700795888901, MAPE=23.431484401226044\n",
      "PKG: RMSE=0.05235191807150841, MAE=0.039705079048871994, MAPE=8.951184898614883\n",
      "PLD: RMSE=0.06088494509458542, MAE=0.045903775840997696, MAPE=17.20941662788391\n",
      "PM: RMSE=0.0790550708770752, MAE=0.061911627650260925, MAPE=11.683845520019531\n",
      "PNC: RMSE=0.06186234578490257, MAE=0.049238234758377075, MAPE=63.13278079032898\n",
      "PNR: RMSE=0.06093272939324379, MAE=0.04700988531112671, MAPE=75.91898441314697\n",
      "PNW: RMSE=0.06804992258548737, MAE=0.05300073325634003, MAPE=107.87011384963989\n",
      "PODD: RMSE=0.07830940186977386, MAE=0.06000072509050369, MAPE=28.38248312473297\n",
      "POOL: RMSE=0.05574999377131462, MAE=0.04317260533571243, MAPE=64.78959321975708\n",
      "PPG: RMSE=0.06941881030797958, MAE=0.05437254533171654, MAPE=74.36296939849854\n",
      "PPL: RMSE=0.08804848045110703, MAE=0.06775783747434616, MAPE=91.85536503791809\n",
      "PRU: RMSE=0.07300112396478653, MAE=0.057677011936903, MAPE=13.582512736320496\n",
      "PSA: RMSE=0.06331770122051239, MAE=0.04924953356385231, MAPE=24.54770803451538\n",
      "PSX: RMSE=0.07395726442337036, MAE=0.05843288451433182, MAPE=64.84882235527039\n",
      "PTC: RMSE=0.05240131542086601, MAE=0.040174297988414764, MAPE=33.54746699333191\n",
      "PWR: RMSE=0.04655161499977112, MAE=0.03600405901670456, MAPE=72.79694676399231\n",
      "PXD: RMSE=0.07557898014783859, MAE=0.0571197010576725, MAPE=20.059113204479218\n",
      "QCOM: RMSE=0.08169512450695038, MAE=0.062468476593494415, MAPE=70.70982456207275\n",
      "RCL: RMSE=0.0795835554599762, MAE=0.06258818507194519, MAPE=81.00640177726746\n",
      "REG: RMSE=0.07336293905973434, MAE=0.05775812640786171, MAPE=15.375171601772308\n",
      "REGN: RMSE=0.06473837047815323, MAE=0.048241276293992996, MAPE=12.44579702615738\n",
      "RF: RMSE=0.08328334242105484, MAE=0.06643550843000412, MAPE=27.048751711845398\n",
      "RHI: RMSE=0.057605355978012085, MAE=0.043725814670324326, MAPE=234.1679811477661\n",
      "RJF: RMSE=0.07151249051094055, MAE=0.055464714765548706, MAPE=10.630601644515991\n",
      "RL: RMSE=0.08965523540973663, MAE=0.06992881000041962, MAPE=72.11194634437561\n",
      "RMD: RMSE=0.05530510097742081, MAE=0.04207436740398407, MAPE=451.3941764831543\n",
      "ROK: RMSE=0.06557441502809525, MAE=0.05033811181783676, MAPE=34.47795510292053\n",
      "ROL: RMSE=0.05561749264597893, MAE=0.042721938341856, MAPE=8.168018609285355\n",
      "ROP: RMSE=0.0449504479765892, MAE=0.034285493195056915, MAPE=7.607708126306534\n",
      "ROST: RMSE=0.059386126697063446, MAE=0.043506305664777756, MAPE=54.67674732208252\n",
      "RSG: RMSE=0.03793597221374512, MAE=0.0303658414632082, MAPE=5.87308444082737\n",
      "RTX: RMSE=0.07336396723985672, MAE=0.05743924528360367, MAPE=31.34993612766266\n",
      "RVTY: RMSE=0.05920238047838211, MAE=0.04563011974096298, MAPE=122.37499952316284\n",
      "SBAC: RMSE=0.06155221536755562, MAE=0.04902391880750656, MAPE=50.05657076835632\n",
      "SBUX: RMSE=0.054980628192424774, MAE=0.04369432106614113, MAPE=27.37165093421936\n",
      "SCHW: RMSE=0.07488996535539627, MAE=0.05560682713985443, MAPE=156.46518468856812\n",
      "SHW: RMSE=0.05103970319032669, MAE=0.04043201729655266, MAPE=15.043656527996063\n",
      "SJM: RMSE=0.06720630079507828, MAE=0.05090031400322914, MAPE=39.41902816295624\n",
      "SLB: RMSE=0.054083019495010376, MAE=0.04145143926143646, MAPE=151.18056535720825\n",
      "SNA: RMSE=0.049514707177877426, MAE=0.03983943164348602, MAPE=12.217795103788376\n",
      "SNPS: RMSE=0.05138680338859558, MAE=0.04101113975048065, MAPE=66.90729856491089\n",
      "SO: RMSE=0.059295713901519775, MAE=0.04521868750452995, MAPE=8.011175692081451\n",
      "SPG: RMSE=0.06562212854623795, MAE=0.05119774118065834, MAPE=324.33674335479736\n",
      "SPGI: RMSE=0.04910614341497421, MAE=0.03889160975813866, MAPE=7.919559627771378\n",
      "SRE: RMSE=0.05378362908959389, MAE=0.0426139310002327, MAPE=7.740325480699539\n",
      "STE: RMSE=0.0612340085208416, MAE=0.04805570840835571, MAPE=8.876857161521912\n",
      "STLD: RMSE=0.06806165724992752, MAE=0.0517830029129982, MAPE=95.87674736976624\n",
      "STT: RMSE=0.10054374486207962, MAE=0.08077146857976913, MAPE=198.88286590576172\n",
      "STX: RMSE=0.06782440841197968, MAE=0.05193319544196129, MAPE=83.15768241882324\n",
      "STZ: RMSE=0.04312152415513992, MAE=0.03432337939739227, MAPE=4.941669851541519\n",
      "SWK: RMSE=0.058252643793821335, MAE=0.04492642730474472, MAPE=18.745683133602142\n",
      "SWKS: RMSE=0.04815928265452385, MAE=0.03892336040735245, MAPE=152.01187133789062\n",
      "SYK: RMSE=0.05908142030239105, MAE=0.04806727543473244, MAPE=10.657742619514465\n",
      "SYY: RMSE=0.06403263658285141, MAE=0.05026274174451828, MAPE=7.974441349506378\n",
      "T: RMSE=0.10188987851142883, MAE=0.07364113628864288, MAPE=373.0517864227295\n",
      "TAP: RMSE=0.04923372343182564, MAE=0.038819413632154465, MAPE=82.04500675201416\n",
      "TDG: RMSE=0.04742542654275894, MAE=0.036273419857025146, MAPE=61.246657371520996\n",
      "TDY: RMSE=0.05183961242437363, MAE=0.04131769388914108, MAPE=7.046792656183243\n",
      "TECH: RMSE=0.06270042061805725, MAE=0.04724942892789841, MAPE=527.398157119751\n",
      "TEL: RMSE=0.05732690170407295, MAE=0.045906487852334976, MAPE=10.130596905946732\n",
      "TER: RMSE=0.06650955229997635, MAE=0.05027885362505913, MAPE=95.42569518089294\n",
      "TFC: RMSE=0.08047336339950562, MAE=0.06107495352625847, MAPE=46.03135287761688\n",
      "TFX: RMSE=0.05185035616159439, MAE=0.04151462763547897, MAPE=247.6386547088623\n",
      "TGT: RMSE=0.0672660693526268, MAE=0.046258971095085144, MAPE=163.5807991027832\n",
      "TJX: RMSE=0.05051811784505844, MAE=0.039511919021606445, MAPE=114.85974788665771\n",
      "TMO: RMSE=0.050228048115968704, MAE=0.03968338668346405, MAPE=6.737155467271805\n",
      "TMUS: RMSE=0.048695363104343414, MAE=0.03768370673060417, MAPE=6.4439646899700165\n",
      "TPR: RMSE=0.08016297221183777, MAE=0.06113012880086899, MAPE=56.677842140197754\n",
      "TRGP: RMSE=0.05594828352332115, MAE=0.04225851967930794, MAPE=17.87007600069046\n",
      "TRMB: RMSE=0.05935869738459587, MAE=0.04737972095608711, MAPE=83.94516706466675\n",
      "TROW: RMSE=0.060038063675165176, MAE=0.04633135348558426, MAPE=42.7542507648468\n",
      "TRV: RMSE=0.05483261123299599, MAE=0.04468867927789688, MAPE=7.235851883888245\n",
      "TSCO: RMSE=0.05912718549370766, MAE=0.04705978184938431, MAPE=7.882855832576752\n",
      "TSLA: RMSE=0.09045522660017014, MAE=0.07022969424724579, MAPE=69.77992653846741\n",
      "TSN: RMSE=0.05040130391716957, MAE=0.03616376593708992, MAPE=24.561581015586853\n",
      "TT: RMSE=0.050783030688762665, MAE=0.03960604593157768, MAPE=51.01548433303833\n",
      "TTWO: RMSE=0.05310861021280289, MAE=0.03904341906309128, MAPE=45.616742968559265\n",
      "TXN: RMSE=0.055688850581645966, MAE=0.0449068583548069, MAPE=6.2958307564258575\n",
      "TXT: RMSE=0.06973930448293686, MAE=0.05388810113072395, MAPE=9.195950627326965\n",
      "TYL: RMSE=0.05679765343666077, MAE=0.04337581992149353, MAPE=25.16777813434601\n",
      "UAL: RMSE=0.0700446367263794, MAE=0.052601419389247894, MAPE=17.243970930576324\n",
      "UDR: RMSE=0.059564925730228424, MAE=0.04763033241033554, MAPE=136.2217903137207\n",
      "UHS: RMSE=0.08791206777095795, MAE=0.06651216745376587, MAPE=54.23177480697632\n",
      "ULTA: RMSE=0.06354225426912308, MAE=0.04833344742655754, MAPE=12.092573940753937\n",
      "UNH: RMSE=0.050976842641830444, MAE=0.041015949100255966, MAPE=5.422429740428925\n",
      "UNP: RMSE=0.047378189861774445, MAE=0.03684498369693756, MAPE=7.574670761823654\n",
      "UPS: RMSE=0.06552548706531525, MAE=0.04860929027199745, MAPE=14.968003332614899\n",
      "URI: RMSE=0.0635342225432396, MAE=0.05004129558801651, MAPE=131.7740797996521\n",
      "USB: RMSE=0.09019436687231064, MAE=0.07003528624773026, MAPE=62.07816004753113\n",
      "V: RMSE=0.05238700285553932, MAE=0.04118206351995468, MAPE=7.617231458425522\n",
      "VFC: RMSE=0.04659092426300049, MAE=0.03542101010680199, MAPE=22.14508354663849\n",
      "VLO: RMSE=0.0775177851319313, MAE=0.06108546629548073, MAPE=26.854902505874634\n",
      "VMC: RMSE=0.05557473376393318, MAE=0.04560181498527527, MAPE=11.828561127185822\n",
      "VRSK: RMSE=0.05537444353103638, MAE=0.04399722442030907, MAPE=11.300928145647049\n",
      "VRSN: RMSE=0.05366434529423714, MAE=0.04117920622229576, MAPE=10.228343307971954\n",
      "VRTX: RMSE=0.04955485463142395, MAE=0.03643542528152466, MAPE=26.050660014152527\n",
      "VTR: RMSE=0.06138382479548454, MAE=0.04937613010406494, MAPE=36.66809797286987\n",
      "VTRS: RMSE=0.01696781814098358, MAE=0.011692372150719166, MAPE=1.2678002938628197\n",
      "VZ: RMSE=0.0769495889544487, MAE=0.05714478716254234, MAPE=126.37594938278198\n",
      "WAB: RMSE=0.061702873557806015, MAE=0.048627518117427826, MAPE=61.38307452201843\n",
      "WAT: RMSE=0.05847896635532379, MAE=0.04648645967245102, MAPE=47.342321276664734\n",
      "WBA: RMSE=0.04771345481276512, MAE=0.038448091596364975, MAPE=23.577596247196198\n",
      "WBD: RMSE=0.03253655508160591, MAE=0.023434588685631752, MAPE=3.5044271498918533\n",
      "WDC: RMSE=0.07383488863706589, MAE=0.05472268536686897, MAPE=27.44387984275818\n",
      "WEC: RMSE=0.05618497356772423, MAE=0.042631834745407104, MAPE=6.873681396245956\n",
      "WELL: RMSE=0.06716210395097733, MAE=0.05315215513110161, MAPE=22.439327836036682\n",
      "WFC: RMSE=0.08811880648136139, MAE=0.0702020451426506, MAPE=90.38729667663574\n",
      "WHR: RMSE=0.06191923841834068, MAE=0.048062536865472794, MAPE=80.33570647239685\n",
      "WM: RMSE=0.041066695004701614, MAE=0.032421547919511795, MAPE=4.580432549118996\n",
      "WMB: RMSE=0.05408349260687828, MAE=0.04144199937582016, MAPE=9.066054970026016\n",
      "WMT: RMSE=0.054903239011764526, MAE=0.04116194695234299, MAPE=9.434150159358978\n",
      "WRB: RMSE=0.04964848980307579, MAE=0.03876791149377823, MAPE=7.059715688228607\n",
      "WST: RMSE=0.05956336483359337, MAE=0.046492867171764374, MAPE=57.269829511642456\n",
      "WTW: RMSE=0.05441572889685631, MAE=0.042013369500637054, MAPE=8.154711872339249\n",
      "WY: RMSE=0.0667869970202446, MAE=0.05279141664505005, MAPE=13.864372670650482\n",
      "WYNN: RMSE=0.04763263463973999, MAE=0.03754445165395737, MAPE=8.550746738910675\n",
      "XEL: RMSE=0.05596758797764778, MAE=0.04154422506690025, MAPE=6.742987036705017\n",
      "XOM: RMSE=0.06310008466243744, MAE=0.0491148978471756, MAPE=35.890260338783264\n",
      "XRAY: RMSE=0.07062137871980667, MAE=0.05489709973335266, MAPE=24.220988154411316\n",
      "XYL: RMSE=0.05705037713050842, MAE=0.04512114077806473, MAPE=28.712090849876404\n",
      "YUM: RMSE=0.05073777586221695, MAE=0.04060694947838783, MAPE=6.974683701992035\n",
      "ZBH: RMSE=0.06338689476251602, MAE=0.05115063861012459, MAPE=117.66064167022705\n",
      "ZBRA: RMSE=0.055113863199949265, MAE=0.042027100920677185, MAPE=59.64580774307251\n",
      "ZION: RMSE=0.08823360502719879, MAE=0.06698208302259445, MAPE=75.41414499282837\n"
     ]
    }
   ],
   "source": [
    "results = []\n",
    "for idx, company in enumerate(df.columns):\n",
    "    # Find indices for the current company in the test dataset\n",
    "    company_test_indices = labels_test_combined == idx\n",
    "    if not np.any(company_test_indices):\n",
    "        print(f\"Skipping {company} due to no test data.\")\n",
    "        continue\n",
    "\n",
    "    X_test_company = X_test_combined[company_test_indices]\n",
    "    y_test_company = y_test_combined[company_test_indices]\n",
    "\n",
    "    # Convert to PyTorch tensors\n",
    "    X_test_tensor = torch.tensor(X_test_company, dtype=torch.float32)\n",
    "    y_test_tensor = torch.tensor(y_test_company, dtype=torch.float32)\n",
    "\n",
    "    model.eval()\n",
    "    with torch.no_grad():\n",
    "        test_output = model(X_test_tensor)\n",
    "        test_loss = criterion(test_output, y_test_tensor.view(-1, 1))\n",
    "        rmse = torch.sqrt(test_loss)\n",
    "\n",
    "        # Convert tensors to numpy arrays for MAE and MAPE calculations\n",
    "        test_output_np = test_output.numpy()\n",
    "        y_test_np = y_test_tensor.numpy()\n",
    "\n",
    "        mae = np.mean(np.abs(test_output_np - y_test_np))\n",
    "        # Avoid division by zero for MAPE calculation\n",
    "        mape = np.mean(np.abs((test_output_np - y_test_np) / y_test_np)) * 100 if np.any(y_test_np) else float('nan')\n",
    "\n",
    "    print(f\"{company}: RMSE={rmse.item()}, MAE={mae}, MAPE={mape}\")\n",
    "    results.append([company, rmse.item(), mae, mape])"
   ],
   "metadata": {
    "collapsed": false,
    "ExecuteTime": {
     "end_time": "2024-03-19T06:26:52.330863Z",
     "start_time": "2024-03-19T06:26:49.929829Z"
    }
   },
   "id": "9febf34ba36919a9",
   "execution_count": 17
  },
  {
   "cell_type": "code",
   "outputs": [],
   "source": [
    "results_df = pd.DataFrame(results, columns=['Company Name', 'RMSE', 'MAE', 'MAPE'])"
   ],
   "metadata": {
    "collapsed": false,
    "ExecuteTime": {
     "end_time": "2024-03-19T06:26:53.695108Z",
     "start_time": "2024-03-19T06:26:53.669756Z"
    }
   },
   "id": "78f0bdcf56c64c1d",
   "execution_count": 18
  },
  {
   "cell_type": "code",
   "outputs": [
    {
     "data": {
      "text/plain": "<Figure size 1000x600 with 1 Axes>",
      "image/png": "[encoded data removed]"
     },
     "metadata": {},
     "output_type": "display_data"
    }
   ],
   "source": [
    "# Extract MAPE values from results list\n",
    "mapes = [result[3] for result in results]\n",
    "\n",
    "# Define ranges\n",
    "ranges = [(0, 10), (10, 25), (25, 60), (60, 100), (100,1000), (1000, float('inf'))]\n",
    "\n",
    "# Initialize count for each range\n",
    "counts = [0] * len(ranges)\n",
    "\n",
    "# Count the number of data points in each range\n",
    "for mape in mapes:\n",
    "    for i, (start, end) in enumerate(ranges):\n",
    "        if start <= mape < end:\n",
    "            counts[i] += 1\n",
    "            break\n",
    "    else:\n",
    "        counts[-1] += 1  # For values above 100\n",
    "\n",
    "# Define range labels\n",
    "range_labels = ['0-10', '10-25', '25-60', '60-100', '100-1000', '1000+']\n",
    "\n",
    "# Plotting bar chart\n",
    "plt.figure(figsize=(10, 6))\n",
    "plt.bar(range(len(ranges)), counts, color='skyblue', edgecolor='black')\n",
    "plt.xticks(range(len(ranges)), range_labels)\n",
    "plt.title('Distribution of MAPE Values')\n",
    "plt.xlabel('MAPE Range')\n",
    "plt.ylabel('Count')\n",
    "plt.grid(True)\n",
    "plt.show()"
   ],
   "metadata": {
    "collapsed": false,
    "ExecuteTime": {
     "end_time": "2024-03-19T06:26:56.596655Z",
     "start_time": "2024-03-19T06:26:56.168428Z"
    }
   },
   "id": "996a5197c82889e3",
   "execution_count": 19
  },
  {
   "cell_type": "code",
   "outputs": [],
   "source": [
    "results_df.to_excel('/Users/keremsmacbook/DataspellProjects/MultivariateForecasting/OutputData/S&P500_NBeats.xlsx', index=False)"
   ],
   "metadata": {
    "collapsed": false,
    "ExecuteTime": {
     "end_time": "2024-03-19T06:27:35.438228Z",
     "start_time": "2024-03-19T06:27:35.167342Z"
    }
   },
   "id": "8144fda1fd083729",
   "execution_count": 20
  },
  {
   "cell_type": "code",
   "outputs": [],
   "source": [],
   "metadata": {
    "collapsed": false
   },
   "id": "99de23e6f0d0ec72"
  }
 ],
 "metadata": {
  "kernelspec": {
   "display_name": "Python 3",
   "language": "python",
   "name": "python3"
  },
  "language_info": {
   "codemirror_mode": {
    "name": "ipython",
    "version": 2
   },
   "file_extension": ".py",
   "mimetype": "text/x-python",
   "name": "python",
   "nbconvert_exporter": "python",
   "pygments_lexer": "ipython2",
   "version": "2.7.6"
  }
 },
 "nbformat": 4,
 "nbformat_minor": 5
}
