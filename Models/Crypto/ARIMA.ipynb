{
 "cells": [
  {
   "cell_type": "markdown",
   "source": [
    "<H2>Prerequisite</H2>\n",
    "\n",
    "* pip install pmdarima"
   ],
   "metadata": {
    "collapsed": false
   },
   "id": "b0f0fb1f2cd6cc25"
  },
  {
   "cell_type": "code",
   "outputs": [],
   "source": [
    "import numpy as np\n",
    "import pandas as pd\n",
    "import pmdarima as pm\n",
    "from sklearn.metrics import mean_squared_error, mean_absolute_error\n",
    "from math import sqrt"
   ],
   "metadata": {
    "collapsed": false,
    "ExecuteTime": {
     "end_time": "2024-03-16T07:18:23.351119Z",
     "start_time": "2024-03-16T07:18:21.895810Z"
    }
   },
   "id": "29630348d514d523",
   "execution_count": 1
  },
  {
   "cell_type": "code",
   "outputs": [],
   "source": [
    "df = pd.read_csv(\"/Users/keremsmacbook/DataspellProjects/MultivariateForecasting/Data/Crypto.csv\")"
   ],
   "metadata": {
    "collapsed": false,
    "ExecuteTime": {
     "end_time": "2024-03-16T07:38:56.094294Z",
     "start_time": "2024-03-16T07:38:56.088797Z"
    }
   },
   "id": "c2e557c2c83a73cb",
   "execution_count": 21
  },
  {
   "cell_type": "code",
   "outputs": [
    {
     "data": {
      "text/plain": "   Unnamed: 0                       Date  bitcoin_Price  ethereum_Price  \\\n0           0  2023-12-25 00:00:00 UTC+0   43621.237697     2272.949384   \n1           1  2023-12-24 00:00:00 UTC+0   43058.521704     2268.370864   \n2           2  2023-12-23 00:00:00 UTC+0   43783.239603     2312.957281   \n3           3  2023-12-22 00:00:00 UTC+0   44021.347627     2328.084867   \n4           4  2023-12-21 00:00:00 UTC+0   43855.294074     2238.018423   \n5           5  2023-12-20 00:00:00 UTC+0   43637.571325     2199.705986   \n6           6  2023-12-19 00:00:00 UTC+0   42275.503840     2177.727320   \n7           7  2023-12-18 00:00:00 UTC+0   42632.732664     2216.921088   \n8           8  2023-12-17 00:00:00 UTC+0   41411.574489     2197.782227   \n9           9  2023-12-16 00:00:00 UTC+0   42235.985646     2227.348631   \n\n   avax_Price  binance_Price  doge_Price  cardano_Price  polkadot_Price  \\\n0   48.298842     267.152891    0.094472       0.625149        9.210169   \n1   47.982728     264.894649    0.091928       0.593517        8.649198   \n2   48.155064     271.591529    0.093645       0.614550        8.332853   \n3   45.468036     271.487518    0.095322       0.623957        7.978560   \n4   46.050435     271.445952    0.094995       0.636154        8.343146   \n5   43.433527     260.168629    0.091417       0.589006        6.941014   \n6   39.791542     252.051420    0.090191       0.575898        6.710684   \n7   41.082502     241.281920    0.092002       0.600966        6.876500   \n8   40.678957     239.032809    0.092960       0.580505        6.789950   \n9   42.057678     243.973830    0.096907       0.606587        7.089570   \n\n   ripple_Price  solana_Price  tron_Price  \n0      0.646002    120.937582    0.105882  \n1      0.613854    112.642132    0.106460  \n2      0.620245    108.092274    0.106865  \n3      0.625628     98.076259    0.105204  \n4      0.623467     93.901695    0.104655  \n5      0.616860     82.169887    0.102694  \n6      0.604835     72.751983    0.100546  \n7      0.612367     74.357978    0.100896  \n8      0.610150     71.107822    0.102039  \n9      0.619568     73.436505    0.102765  ",
      "text/html": "<div>\n<style scoped>\n    .dataframe tbody tr th:only-of-type {\n        vertical-align: middle;\n    }\n\n    .dataframe tbody tr th {\n        vertical-align: top;\n    }\n\n    .dataframe thead th {\n        text-align: right;\n    }\n</style>\n<table border=\"1\" class=\"dataframe\">\n  <thead>\n    <tr style=\"text-align: right;\">\n      <th></th>\n      <th>Unnamed: 0</th>\n      <th>Date</th>\n      <th>bitcoin_Price</th>\n      <th>ethereum_Price</th>\n      <th>avax_Price</th>\n      <th>binance_Price</th>\n      <th>doge_Price</th>\n      <th>cardano_Price</th>\n      <th>polkadot_Price</th>\n      <th>ripple_Price</th>\n      <th>solana_Price</th>\n      <th>tron_Price</th>\n    </tr>\n  </thead>\n  <tbody>\n    <tr>\n      <th>0</th>\n      <td>0</td>\n      <td>2023-12-25 00:00:00 UTC+0</td>\n      <td>43621.237697</td>\n      <td>2272.949384</td>\n      <td>48.298842</td>\n      <td>267.152891</td>\n      <td>0.094472</td>\n      <td>0.625149</td>\n      <td>9.210169</td>\n      <td>0.646002</td>\n      <td>120.937582</td>\n      <td>0.105882</td>\n    </tr>\n    <tr>\n      <th>1</th>\n      <td>1</td>\n      <td>2023-12-24 00:00:00 UTC+0</td>\n      <td>43058.521704</td>\n      <td>2268.370864</td>\n      <td>47.982728</td>\n      <td>264.894649</td>\n      <td>0.091928</td>\n      <td>0.593517</td>\n      <td>8.649198</td>\n      <td>0.613854</td>\n      <td>112.642132</td>\n      <td>0.106460</td>\n    </tr>\n    <tr>\n      <th>2</th>\n      <td>2</td>\n      <td>2023-12-23 00:00:00 UTC+0</td>\n      <td>43783.239603</td>\n      <td>2312.957281</td>\n      <td>48.155064</td>\n      <td>271.591529</td>\n      <td>0.093645</td>\n      <td>0.614550</td>\n      <td>8.332853</td>\n      <td>0.620245</td>\n      <td>108.092274</td>\n      <td>0.106865</td>\n    </tr>\n    <tr>\n      <th>3</th>\n      <td>3</td>\n      <td>2023-12-22 00:00:00 UTC+0</td>\n      <td>44021.347627</td>\n      <td>2328.084867</td>\n      <td>45.468036</td>\n      <td>271.487518</td>\n      <td>0.095322</td>\n      <td>0.623957</td>\n      <td>7.978560</td>\n      <td>0.625628</td>\n      <td>98.076259</td>\n      <td>0.105204</td>\n    </tr>\n    <tr>\n      <th>4</th>\n      <td>4</td>\n      <td>2023-12-21 00:00:00 UTC+0</td>\n      <td>43855.294074</td>\n      <td>2238.018423</td>\n      <td>46.050435</td>\n      <td>271.445952</td>\n      <td>0.094995</td>\n      <td>0.636154</td>\n      <td>8.343146</td>\n      <td>0.623467</td>\n      <td>93.901695</td>\n      <td>0.104655</td>\n    </tr>\n    <tr>\n      <th>5</th>\n      <td>5</td>\n      <td>2023-12-20 00:00:00 UTC+0</td>\n      <td>43637.571325</td>\n      <td>2199.705986</td>\n      <td>43.433527</td>\n      <td>260.168629</td>\n      <td>0.091417</td>\n      <td>0.589006</td>\n      <td>6.941014</td>\n      <td>0.616860</td>\n      <td>82.169887</td>\n      <td>0.102694</td>\n    </tr>\n    <tr>\n      <th>6</th>\n      <td>6</td>\n      <td>2023-12-19 00:00:00 UTC+0</td>\n      <td>42275.503840</td>\n      <td>2177.727320</td>\n      <td>39.791542</td>\n      <td>252.051420</td>\n      <td>0.090191</td>\n      <td>0.575898</td>\n      <td>6.710684</td>\n      <td>0.604835</td>\n      <td>72.751983</td>\n      <td>0.100546</td>\n    </tr>\n    <tr>\n      <th>7</th>\n      <td>7</td>\n      <td>2023-12-18 00:00:00 UTC+0</td>\n      <td>42632.732664</td>\n      <td>2216.921088</td>\n      <td>41.082502</td>\n      <td>241.281920</td>\n      <td>0.092002</td>\n      <td>0.600966</td>\n      <td>6.876500</td>\n      <td>0.612367</td>\n      <td>74.357978</td>\n      <td>0.100896</td>\n    </tr>\n    <tr>\n      <th>8</th>\n      <td>8</td>\n      <td>2023-12-17 00:00:00 UTC+0</td>\n      <td>41411.574489</td>\n      <td>2197.782227</td>\n      <td>40.678957</td>\n      <td>239.032809</td>\n      <td>0.092960</td>\n      <td>0.580505</td>\n      <td>6.789950</td>\n      <td>0.610150</td>\n      <td>71.107822</td>\n      <td>0.102039</td>\n    </tr>\n    <tr>\n      <th>9</th>\n      <td>9</td>\n      <td>2023-12-16 00:00:00 UTC+0</td>\n      <td>42235.985646</td>\n      <td>2227.348631</td>\n      <td>42.057678</td>\n      <td>243.973830</td>\n      <td>0.096907</td>\n      <td>0.606587</td>\n      <td>7.089570</td>\n      <td>0.619568</td>\n      <td>73.436505</td>\n      <td>0.102765</td>\n    </tr>\n  </tbody>\n</table>\n</div>"
     },
     "execution_count": 22,
     "metadata": {},
     "output_type": "execute_result"
    }
   ],
   "source": [
    "df.head(10)"
   ],
   "metadata": {
    "collapsed": false,
    "ExecuteTime": {
     "end_time": "2024-03-16T07:38:56.813287Z",
     "start_time": "2024-03-16T07:38:56.806724Z"
    }
   },
   "id": "278249ad4f0464c6",
   "execution_count": 22
  },
  {
   "cell_type": "code",
   "outputs": [
    {
     "name": "stderr",
     "output_type": "stream",
     "text": [
      "/var/folders/b9/142b03t94kl2_jzp7wpxqbz00000gn/T/ipykernel_15404/1756150960.py:1: UserWarning: Could not infer format, so each element will be parsed individually, falling back to `dateutil`. To ensure parsing is consistent and as-expected, please specify a format.\n",
      "  df['Date'] = pd.to_datetime(df['Date'])\n"
     ]
    }
   ],
   "source": [
    "df['Date'] = pd.to_datetime(df['Date'])\n",
    "df.set_index('Date', inplace=True)"
   ],
   "metadata": {
    "collapsed": false,
    "ExecuteTime": {
     "end_time": "2024-03-16T07:38:58.772548Z",
     "start_time": "2024-03-16T07:38:58.714878Z"
    }
   },
   "id": "4c913c748a15b573",
   "execution_count": 23
  },
  {
   "cell_type": "code",
   "outputs": [
    {
     "data": {
      "text/plain": "(1089, 11)"
     },
     "execution_count": 24,
     "metadata": {},
     "output_type": "execute_result"
    }
   ],
   "source": [
    "df.shape"
   ],
   "metadata": {
    "collapsed": false,
    "ExecuteTime": {
     "end_time": "2024-03-16T07:39:07.453789Z",
     "start_time": "2024-03-16T07:39:07.450883Z"
    }
   },
   "id": "58f65ed7dbc17f83",
   "execution_count": 24
  },
  {
   "cell_type": "code",
   "outputs": [
    {
     "data": {
      "text/plain": "                           Unnamed: 0  bitcoin_Price  ethereum_Price  \\\nDate                                                                   \n2023-12-25 00:00:00+00:00           0   43621.237697     2272.949384   \n2023-12-24 00:00:00+00:00           1   43058.521704     2268.370864   \n2023-12-23 00:00:00+00:00           2   43783.239603     2312.957281   \n2023-12-22 00:00:00+00:00           3   44021.347627     2328.084867   \n2023-12-21 00:00:00+00:00           4   43855.294074     2238.018423   \n2023-12-20 00:00:00+00:00           5   43637.571325     2199.705986   \n2023-12-19 00:00:00+00:00           6   42275.503840     2177.727320   \n2023-12-18 00:00:00+00:00           7   42632.732664     2216.921088   \n2023-12-17 00:00:00+00:00           8   41411.574489     2197.782227   \n2023-12-16 00:00:00+00:00           9   42235.985646     2227.348631   \n\n                           avax_Price  binance_Price  doge_Price  \\\nDate                                                               \n2023-12-25 00:00:00+00:00   48.298842     267.152891    0.094472   \n2023-12-24 00:00:00+00:00   47.982728     264.894649    0.091928   \n2023-12-23 00:00:00+00:00   48.155064     271.591529    0.093645   \n2023-12-22 00:00:00+00:00   45.468036     271.487518    0.095322   \n2023-12-21 00:00:00+00:00   46.050435     271.445952    0.094995   \n2023-12-20 00:00:00+00:00   43.433527     260.168629    0.091417   \n2023-12-19 00:00:00+00:00   39.791542     252.051420    0.090191   \n2023-12-18 00:00:00+00:00   41.082502     241.281920    0.092002   \n2023-12-17 00:00:00+00:00   40.678957     239.032809    0.092960   \n2023-12-16 00:00:00+00:00   42.057678     243.973830    0.096907   \n\n                           cardano_Price  polkadot_Price  ripple_Price  \\\nDate                                                                     \n2023-12-25 00:00:00+00:00       0.625149        9.210169      0.646002   \n2023-12-24 00:00:00+00:00       0.593517        8.649198      0.613854   \n2023-12-23 00:00:00+00:00       0.614550        8.332853      0.620245   \n2023-12-22 00:00:00+00:00       0.623957        7.978560      0.625628   \n2023-12-21 00:00:00+00:00       0.636154        8.343146      0.623467   \n2023-12-20 00:00:00+00:00       0.589006        6.941014      0.616860   \n2023-12-19 00:00:00+00:00       0.575898        6.710684      0.604835   \n2023-12-18 00:00:00+00:00       0.600966        6.876500      0.612367   \n2023-12-17 00:00:00+00:00       0.580505        6.789950      0.610150   \n2023-12-16 00:00:00+00:00       0.606587        7.089570      0.619568   \n\n                           solana_Price  tron_Price  \nDate                                                 \n2023-12-25 00:00:00+00:00    120.937582    0.105882  \n2023-12-24 00:00:00+00:00    112.642132    0.106460  \n2023-12-23 00:00:00+00:00    108.092274    0.106865  \n2023-12-22 00:00:00+00:00     98.076259    0.105204  \n2023-12-21 00:00:00+00:00     93.901695    0.104655  \n2023-12-20 00:00:00+00:00     82.169887    0.102694  \n2023-12-19 00:00:00+00:00     72.751983    0.100546  \n2023-12-18 00:00:00+00:00     74.357978    0.100896  \n2023-12-17 00:00:00+00:00     71.107822    0.102039  \n2023-12-16 00:00:00+00:00     73.436505    0.102765  ",
      "text/html": "<div>\n<style scoped>\n    .dataframe tbody tr th:only-of-type {\n        vertical-align: middle;\n    }\n\n    .dataframe tbody tr th {\n        vertical-align: top;\n    }\n\n    .dataframe thead th {\n        text-align: right;\n    }\n</style>\n<table border=\"1\" class=\"dataframe\">\n  <thead>\n    <tr style=\"text-align: right;\">\n      <th></th>\n      <th>Unnamed: 0</th>\n      <th>bitcoin_Price</th>\n      <th>ethereum_Price</th>\n      <th>avax_Price</th>\n      <th>binance_Price</th>\n      <th>doge_Price</th>\n      <th>cardano_Price</th>\n      <th>polkadot_Price</th>\n      <th>ripple_Price</th>\n      <th>solana_Price</th>\n      <th>tron_Price</th>\n    </tr>\n    <tr>\n      <th>Date</th>\n      <th></th>\n      <th></th>\n      <th></th>\n      <th></th>\n      <th></th>\n      <th></th>\n      <th></th>\n      <th></th>\n      <th></th>\n      <th></th>\n      <th></th>\n    </tr>\n  </thead>\n  <tbody>\n    <tr>\n      <th>2023-12-25 00:00:00+00:00</th>\n      <td>0</td>\n      <td>43621.237697</td>\n      <td>2272.949384</td>\n      <td>48.298842</td>\n      <td>267.152891</td>\n      <td>0.094472</td>\n      <td>0.625149</td>\n      <td>9.210169</td>\n      <td>0.646002</td>\n      <td>120.937582</td>\n      <td>0.105882</td>\n    </tr>\n    <tr>\n      <th>2023-12-24 00:00:00+00:00</th>\n      <td>1</td>\n      <td>43058.521704</td>\n      <td>2268.370864</td>\n      <td>47.982728</td>\n      <td>264.894649</td>\n      <td>0.091928</td>\n      <td>0.593517</td>\n      <td>8.649198</td>\n      <td>0.613854</td>\n      <td>112.642132</td>\n      <td>0.106460</td>\n    </tr>\n    <tr>\n      <th>2023-12-23 00:00:00+00:00</th>\n      <td>2</td>\n      <td>43783.239603</td>\n      <td>2312.957281</td>\n      <td>48.155064</td>\n      <td>271.591529</td>\n      <td>0.093645</td>\n      <td>0.614550</td>\n      <td>8.332853</td>\n      <td>0.620245</td>\n      <td>108.092274</td>\n      <td>0.106865</td>\n    </tr>\n    <tr>\n      <th>2023-12-22 00:00:00+00:00</th>\n      <td>3</td>\n      <td>44021.347627</td>\n      <td>2328.084867</td>\n      <td>45.468036</td>\n      <td>271.487518</td>\n      <td>0.095322</td>\n      <td>0.623957</td>\n      <td>7.978560</td>\n      <td>0.625628</td>\n      <td>98.076259</td>\n      <td>0.105204</td>\n    </tr>\n    <tr>\n      <th>2023-12-21 00:00:00+00:00</th>\n      <td>4</td>\n      <td>43855.294074</td>\n      <td>2238.018423</td>\n      <td>46.050435</td>\n      <td>271.445952</td>\n      <td>0.094995</td>\n      <td>0.636154</td>\n      <td>8.343146</td>\n      <td>0.623467</td>\n      <td>93.901695</td>\n      <td>0.104655</td>\n    </tr>\n    <tr>\n      <th>2023-12-20 00:00:00+00:00</th>\n      <td>5</td>\n      <td>43637.571325</td>\n      <td>2199.705986</td>\n      <td>43.433527</td>\n      <td>260.168629</td>\n      <td>0.091417</td>\n      <td>0.589006</td>\n      <td>6.941014</td>\n      <td>0.616860</td>\n      <td>82.169887</td>\n      <td>0.102694</td>\n    </tr>\n    <tr>\n      <th>2023-12-19 00:00:00+00:00</th>\n      <td>6</td>\n      <td>42275.503840</td>\n      <td>2177.727320</td>\n      <td>39.791542</td>\n      <td>252.051420</td>\n      <td>0.090191</td>\n      <td>0.575898</td>\n      <td>6.710684</td>\n      <td>0.604835</td>\n      <td>72.751983</td>\n      <td>0.100546</td>\n    </tr>\n    <tr>\n      <th>2023-12-18 00:00:00+00:00</th>\n      <td>7</td>\n      <td>42632.732664</td>\n      <td>2216.921088</td>\n      <td>41.082502</td>\n      <td>241.281920</td>\n      <td>0.092002</td>\n      <td>0.600966</td>\n      <td>6.876500</td>\n      <td>0.612367</td>\n      <td>74.357978</td>\n      <td>0.100896</td>\n    </tr>\n    <tr>\n      <th>2023-12-17 00:00:00+00:00</th>\n      <td>8</td>\n      <td>41411.574489</td>\n      <td>2197.782227</td>\n      <td>40.678957</td>\n      <td>239.032809</td>\n      <td>0.092960</td>\n      <td>0.580505</td>\n      <td>6.789950</td>\n      <td>0.610150</td>\n      <td>71.107822</td>\n      <td>0.102039</td>\n    </tr>\n    <tr>\n      <th>2023-12-16 00:00:00+00:00</th>\n      <td>9</td>\n      <td>42235.985646</td>\n      <td>2227.348631</td>\n      <td>42.057678</td>\n      <td>243.973830</td>\n      <td>0.096907</td>\n      <td>0.606587</td>\n      <td>7.089570</td>\n      <td>0.619568</td>\n      <td>73.436505</td>\n      <td>0.102765</td>\n    </tr>\n  </tbody>\n</table>\n</div>"
     },
     "execution_count": 25,
     "metadata": {},
     "output_type": "execute_result"
    }
   ],
   "source": [
    "df.head(10)"
   ],
   "metadata": {
    "collapsed": false,
    "ExecuteTime": {
     "end_time": "2024-03-16T07:39:16.821942Z",
     "start_time": "2024-03-16T07:39:16.813597Z"
    }
   },
   "id": "84c5128c79d8d5b0",
   "execution_count": 25
  },
  {
   "cell_type": "code",
   "outputs": [],
   "source": [
    "df.drop(\"Unnamed: 0\", inplace = True, axis=1)"
   ],
   "metadata": {
    "collapsed": false,
    "ExecuteTime": {
     "end_time": "2024-03-16T07:39:19.773210Z",
     "start_time": "2024-03-16T07:39:19.768589Z"
    }
   },
   "id": "20ca3d8169dd077c",
   "execution_count": 26
  },
  {
   "cell_type": "code",
   "outputs": [
    {
     "data": {
      "text/plain": "                           bitcoin_Price  ethereum_Price  avax_Price  \\\nDate                                                                   \n2023-12-25 00:00:00+00:00   43621.237697     2272.949384   48.298842   \n2023-12-24 00:00:00+00:00   43058.521704     2268.370864   47.982728   \n2023-12-23 00:00:00+00:00   43783.239603     2312.957281   48.155064   \n2023-12-22 00:00:00+00:00   44021.347627     2328.084867   45.468036   \n2023-12-21 00:00:00+00:00   43855.294074     2238.018423   46.050435   \n2023-12-20 00:00:00+00:00   43637.571325     2199.705986   43.433527   \n2023-12-19 00:00:00+00:00   42275.503840     2177.727320   39.791542   \n2023-12-18 00:00:00+00:00   42632.732664     2216.921088   41.082502   \n2023-12-17 00:00:00+00:00   41411.574489     2197.782227   40.678957   \n2023-12-16 00:00:00+00:00   42235.985646     2227.348631   42.057678   \n\n                           binance_Price  doge_Price  cardano_Price  \\\nDate                                                                  \n2023-12-25 00:00:00+00:00     267.152891    0.094472       0.625149   \n2023-12-24 00:00:00+00:00     264.894649    0.091928       0.593517   \n2023-12-23 00:00:00+00:00     271.591529    0.093645       0.614550   \n2023-12-22 00:00:00+00:00     271.487518    0.095322       0.623957   \n2023-12-21 00:00:00+00:00     271.445952    0.094995       0.636154   \n2023-12-20 00:00:00+00:00     260.168629    0.091417       0.589006   \n2023-12-19 00:00:00+00:00     252.051420    0.090191       0.575898   \n2023-12-18 00:00:00+00:00     241.281920    0.092002       0.600966   \n2023-12-17 00:00:00+00:00     239.032809    0.092960       0.580505   \n2023-12-16 00:00:00+00:00     243.973830    0.096907       0.606587   \n\n                           polkadot_Price  ripple_Price  solana_Price  \\\nDate                                                                    \n2023-12-25 00:00:00+00:00        9.210169      0.646002    120.937582   \n2023-12-24 00:00:00+00:00        8.649198      0.613854    112.642132   \n2023-12-23 00:00:00+00:00        8.332853      0.620245    108.092274   \n2023-12-22 00:00:00+00:00        7.978560      0.625628     98.076259   \n2023-12-21 00:00:00+00:00        8.343146      0.623467     93.901695   \n2023-12-20 00:00:00+00:00        6.941014      0.616860     82.169887   \n2023-12-19 00:00:00+00:00        6.710684      0.604835     72.751983   \n2023-12-18 00:00:00+00:00        6.876500      0.612367     74.357978   \n2023-12-17 00:00:00+00:00        6.789950      0.610150     71.107822   \n2023-12-16 00:00:00+00:00        7.089570      0.619568     73.436505   \n\n                           tron_Price  \nDate                                   \n2023-12-25 00:00:00+00:00    0.105882  \n2023-12-24 00:00:00+00:00    0.106460  \n2023-12-23 00:00:00+00:00    0.106865  \n2023-12-22 00:00:00+00:00    0.105204  \n2023-12-21 00:00:00+00:00    0.104655  \n2023-12-20 00:00:00+00:00    0.102694  \n2023-12-19 00:00:00+00:00    0.100546  \n2023-12-18 00:00:00+00:00    0.100896  \n2023-12-17 00:00:00+00:00    0.102039  \n2023-12-16 00:00:00+00:00    0.102765  ",
      "text/html": "<div>\n<style scoped>\n    .dataframe tbody tr th:only-of-type {\n        vertical-align: middle;\n    }\n\n    .dataframe tbody tr th {\n        vertical-align: top;\n    }\n\n    .dataframe thead th {\n        text-align: right;\n    }\n</style>\n<table border=\"1\" class=\"dataframe\">\n  <thead>\n    <tr style=\"text-align: right;\">\n      <th></th>\n      <th>bitcoin_Price</th>\n      <th>ethereum_Price</th>\n      <th>avax_Price</th>\n      <th>binance_Price</th>\n      <th>doge_Price</th>\n      <th>cardano_Price</th>\n      <th>polkadot_Price</th>\n      <th>ripple_Price</th>\n      <th>solana_Price</th>\n      <th>tron_Price</th>\n    </tr>\n    <tr>\n      <th>Date</th>\n      <th></th>\n      <th></th>\n      <th></th>\n      <th></th>\n      <th></th>\n      <th></th>\n      <th></th>\n      <th></th>\n      <th></th>\n      <th></th>\n    </tr>\n  </thead>\n  <tbody>\n    <tr>\n      <th>2023-12-25 00:00:00+00:00</th>\n      <td>43621.237697</td>\n      <td>2272.949384</td>\n      <td>48.298842</td>\n      <td>267.152891</td>\n      <td>0.094472</td>\n      <td>0.625149</td>\n      <td>9.210169</td>\n      <td>0.646002</td>\n      <td>120.937582</td>\n      <td>0.105882</td>\n    </tr>\n    <tr>\n      <th>2023-12-24 00:00:00+00:00</th>\n      <td>43058.521704</td>\n      <td>2268.370864</td>\n      <td>47.982728</td>\n      <td>264.894649</td>\n      <td>0.091928</td>\n      <td>0.593517</td>\n      <td>8.649198</td>\n      <td>0.613854</td>\n      <td>112.642132</td>\n      <td>0.106460</td>\n    </tr>\n    <tr>\n      <th>2023-12-23 00:00:00+00:00</th>\n      <td>43783.239603</td>\n      <td>2312.957281</td>\n      <td>48.155064</td>\n      <td>271.591529</td>\n      <td>0.093645</td>\n      <td>0.614550</td>\n      <td>8.332853</td>\n      <td>0.620245</td>\n      <td>108.092274</td>\n      <td>0.106865</td>\n    </tr>\n    <tr>\n      <th>2023-12-22 00:00:00+00:00</th>\n      <td>44021.347627</td>\n      <td>2328.084867</td>\n      <td>45.468036</td>\n      <td>271.487518</td>\n      <td>0.095322</td>\n      <td>0.623957</td>\n      <td>7.978560</td>\n      <td>0.625628</td>\n      <td>98.076259</td>\n      <td>0.105204</td>\n    </tr>\n    <tr>\n      <th>2023-12-21 00:00:00+00:00</th>\n      <td>43855.294074</td>\n      <td>2238.018423</td>\n      <td>46.050435</td>\n      <td>271.445952</td>\n      <td>0.094995</td>\n      <td>0.636154</td>\n      <td>8.343146</td>\n      <td>0.623467</td>\n      <td>93.901695</td>\n      <td>0.104655</td>\n    </tr>\n    <tr>\n      <th>2023-12-20 00:00:00+00:00</th>\n      <td>43637.571325</td>\n      <td>2199.705986</td>\n      <td>43.433527</td>\n      <td>260.168629</td>\n      <td>0.091417</td>\n      <td>0.589006</td>\n      <td>6.941014</td>\n      <td>0.616860</td>\n      <td>82.169887</td>\n      <td>0.102694</td>\n    </tr>\n    <tr>\n      <th>2023-12-19 00:00:00+00:00</th>\n      <td>42275.503840</td>\n      <td>2177.727320</td>\n      <td>39.791542</td>\n      <td>252.051420</td>\n      <td>0.090191</td>\n      <td>0.575898</td>\n      <td>6.710684</td>\n      <td>0.604835</td>\n      <td>72.751983</td>\n      <td>0.100546</td>\n    </tr>\n    <tr>\n      <th>2023-12-18 00:00:00+00:00</th>\n      <td>42632.732664</td>\n      <td>2216.921088</td>\n      <td>41.082502</td>\n      <td>241.281920</td>\n      <td>0.092002</td>\n      <td>0.600966</td>\n      <td>6.876500</td>\n      <td>0.612367</td>\n      <td>74.357978</td>\n      <td>0.100896</td>\n    </tr>\n    <tr>\n      <th>2023-12-17 00:00:00+00:00</th>\n      <td>41411.574489</td>\n      <td>2197.782227</td>\n      <td>40.678957</td>\n      <td>239.032809</td>\n      <td>0.092960</td>\n      <td>0.580505</td>\n      <td>6.789950</td>\n      <td>0.610150</td>\n      <td>71.107822</td>\n      <td>0.102039</td>\n    </tr>\n    <tr>\n      <th>2023-12-16 00:00:00+00:00</th>\n      <td>42235.985646</td>\n      <td>2227.348631</td>\n      <td>42.057678</td>\n      <td>243.973830</td>\n      <td>0.096907</td>\n      <td>0.606587</td>\n      <td>7.089570</td>\n      <td>0.619568</td>\n      <td>73.436505</td>\n      <td>0.102765</td>\n    </tr>\n  </tbody>\n</table>\n</div>"
     },
     "execution_count": 27,
     "metadata": {},
     "output_type": "execute_result"
    }
   ],
   "source": [
    "df.head(10)"
   ],
   "metadata": {
    "collapsed": false,
    "ExecuteTime": {
     "end_time": "2024-03-16T07:39:20.543082Z",
     "start_time": "2024-03-16T07:39:20.534210Z"
    }
   },
   "id": "71db165d924bb322",
   "execution_count": 27
  },
  {
   "cell_type": "code",
   "outputs": [],
   "source": [
    "def inverse_difference(original_series, differences, interval=1):\n",
    "    return original_series + differences.cumsum()\n",
    "\n",
    "def inverse_log(x):\n",
    "    return np.exp(x)"
   ],
   "metadata": {
    "collapsed": false,
    "ExecuteTime": {
     "end_time": "2024-03-16T07:39:23.526792Z",
     "start_time": "2024-03-16T07:39:23.523058Z"
    }
   },
   "id": "58b28f551bdc2e4",
   "execution_count": 28
  },
  {
   "cell_type": "code",
   "outputs": [],
   "source": [
    "results = []"
   ],
   "metadata": {
    "collapsed": false,
    "ExecuteTime": {
     "end_time": "2024-03-16T07:39:24.316479Z",
     "start_time": "2024-03-16T07:39:24.314343Z"
    }
   },
   "id": "287727d0fe4bf9b3",
   "execution_count": 29
  },
  {
   "cell_type": "code",
   "outputs": [
    {
     "name": "stderr",
     "output_type": "stream",
     "text": [
      "/opt/anaconda3/lib/python3.11/site-packages/statsmodels/tsa/base/tsa_model.py:836: ValueWarning: No supported index is available. Prediction results will be given with an integer index beginning at `start`.\n",
      "  return get_prediction_index(\n",
      "/opt/anaconda3/lib/python3.11/site-packages/statsmodels/tsa/base/tsa_model.py:836: FutureWarning: No supported index is available. In the next version, calling this method in a model without a supported index will result in an exception.\n",
      "  return get_prediction_index(\n"
     ]
    },
    {
     "name": "stdout",
     "output_type": "stream",
     "text": [
      "bitcoin_Price 10131.281605262022 9110.4190005028 20.7592947531943\n"
     ]
    },
    {
     "name": "stderr",
     "output_type": "stream",
     "text": [
      "/opt/anaconda3/lib/python3.11/site-packages/statsmodels/tsa/base/tsa_model.py:836: ValueWarning: No supported index is available. Prediction results will be given with an integer index beginning at `start`.\n",
      "  return get_prediction_index(\n",
      "/opt/anaconda3/lib/python3.11/site-packages/statsmodels/tsa/base/tsa_model.py:836: FutureWarning: No supported index is available. In the next version, calling this method in a model without a supported index will result in an exception.\n",
      "  return get_prediction_index(\n"
     ]
    },
    {
     "name": "stdout",
     "output_type": "stream",
     "text": [
      "ethereum_Price 1031.0995129992295 915.7961781002302 55.86771651853788\n"
     ]
    },
    {
     "name": "stderr",
     "output_type": "stream",
     "text": [
      "/opt/anaconda3/lib/python3.11/site-packages/statsmodels/tsa/base/tsa_model.py:836: ValueWarning: No supported index is available. Prediction results will be given with an integer index beginning at `start`.\n",
      "  return get_prediction_index(\n",
      "/opt/anaconda3/lib/python3.11/site-packages/statsmodels/tsa/base/tsa_model.py:836: FutureWarning: No supported index is available. In the next version, calling this method in a model without a supported index will result in an exception.\n",
      "  return get_prediction_index(\n"
     ]
    },
    {
     "name": "stdout",
     "output_type": "stream",
     "text": [
      "avax_Price 15.248402905501797 11.535074074046273 47.2547516787594\n"
     ]
    },
    {
     "name": "stderr",
     "output_type": "stream",
     "text": [
      "/opt/anaconda3/lib/python3.11/site-packages/statsmodels/tsa/base/tsa_model.py:836: ValueWarning: No supported index is available. Prediction results will be given with an integer index beginning at `start`.\n",
      "  return get_prediction_index(\n",
      "/opt/anaconda3/lib/python3.11/site-packages/statsmodels/tsa/base/tsa_model.py:836: FutureWarning: No supported index is available. In the next version, calling this method in a model without a supported index will result in an exception.\n",
      "  return get_prediction_index(\n"
     ]
    },
    {
     "name": "stdout",
     "output_type": "stream",
     "text": [
      "binance_Price 173.74376953435 133.91235449054474 148.49529647020518\n"
     ]
    },
    {
     "name": "stderr",
     "output_type": "stream",
     "text": [
      "/opt/anaconda3/lib/python3.11/site-packages/statsmodels/tsa/base/tsa_model.py:836: ValueWarning: No supported index is available. Prediction results will be given with an integer index beginning at `start`.\n",
      "  return get_prediction_index(\n",
      "/opt/anaconda3/lib/python3.11/site-packages/statsmodels/tsa/base/tsa_model.py:836: FutureWarning: No supported index is available. In the next version, calling this method in a model without a supported index will result in an exception.\n",
      "  return get_prediction_index(\n"
     ]
    },
    {
     "name": "stdout",
     "output_type": "stream",
     "text": [
      "doge_Price 0.1587375902860381 0.13488920750790354 410.2416749577098\n"
     ]
    },
    {
     "name": "stderr",
     "output_type": "stream",
     "text": [
      "/opt/anaconda3/lib/python3.11/site-packages/statsmodels/tsa/base/tsa_model.py:836: ValueWarning: No supported index is available. Prediction results will be given with an integer index beginning at `start`.\n",
      "  return get_prediction_index(\n",
      "/opt/anaconda3/lib/python3.11/site-packages/statsmodels/tsa/base/tsa_model.py:836: FutureWarning: No supported index is available. In the next version, calling this method in a model without a supported index will result in an exception.\n",
      "  return get_prediction_index(\n"
     ]
    },
    {
     "name": "stdout",
     "output_type": "stream",
     "text": [
      "cardano_Price 0.5109599386458804 0.36364643009174313 75.48712187279556\n"
     ]
    },
    {
     "name": "stderr",
     "output_type": "stream",
     "text": [
      "/opt/anaconda3/lib/python3.11/site-packages/statsmodels/tsa/base/tsa_model.py:836: ValueWarning: No supported index is available. Prediction results will be given with an integer index beginning at `start`.\n",
      "  return get_prediction_index(\n",
      "/opt/anaconda3/lib/python3.11/site-packages/statsmodels/tsa/base/tsa_model.py:836: FutureWarning: No supported index is available. In the next version, calling this method in a model without a supported index will result in an exception.\n",
      "  return get_prediction_index(\n"
     ]
    },
    {
     "name": "stdout",
     "output_type": "stream",
     "text": [
      "polkadot_Price 11.838865982830445 9.76644072829407 38.80406552241422\n"
     ]
    },
    {
     "name": "stderr",
     "output_type": "stream",
     "text": [
      "/opt/anaconda3/lib/python3.11/site-packages/statsmodels/tsa/base/tsa_model.py:836: ValueWarning: No supported index is available. Prediction results will be given with an integer index beginning at `start`.\n",
      "  return get_prediction_index(\n",
      "/opt/anaconda3/lib/python3.11/site-packages/statsmodels/tsa/base/tsa_model.py:836: FutureWarning: No supported index is available. In the next version, calling this method in a model without a supported index will result in an exception.\n",
      "  return get_prediction_index(\n"
     ]
    },
    {
     "name": "stdout",
     "output_type": "stream",
     "text": [
      "ripple_Price 0.3943500227543207 0.3204503109226957 55.76866820416016\n"
     ]
    },
    {
     "name": "stderr",
     "output_type": "stream",
     "text": [
      "/opt/anaconda3/lib/python3.11/site-packages/statsmodels/tsa/base/tsa_model.py:836: ValueWarning: No supported index is available. Prediction results will be given with an integer index beginning at `start`.\n",
      "  return get_prediction_index(\n",
      "/opt/anaconda3/lib/python3.11/site-packages/statsmodels/tsa/base/tsa_model.py:836: FutureWarning: No supported index is available. In the next version, calling this method in a model without a supported index will result in an exception.\n",
      "  return get_prediction_index(\n"
     ]
    },
    {
     "name": "stdout",
     "output_type": "stream",
     "text": [
      "solana_Price 14.548576437104927 12.126886392374349 177.3688587943187\n",
      "tron_Price 0.03410987361944515 0.02691845265484351 46.928605652378025\n"
     ]
    },
    {
     "name": "stderr",
     "output_type": "stream",
     "text": [
      "/opt/anaconda3/lib/python3.11/site-packages/statsmodels/tsa/base/tsa_model.py:836: ValueWarning: No supported index is available. Prediction results will be given with an integer index beginning at `start`.\n",
      "  return get_prediction_index(\n",
      "/opt/anaconda3/lib/python3.11/site-packages/statsmodels/tsa/base/tsa_model.py:836: FutureWarning: No supported index is available. In the next version, calling this method in a model without a supported index will result in an exception.\n",
      "  return get_prediction_index(\n"
     ]
    }
   ],
   "source": [
    "for company in df.columns:\n",
    "\n",
    "    c = pd.DataFrame(df[company])\n",
    "\n",
    "    split_size = int(0.8 * len(c))\n",
    "    train = c.iloc[:split_size]\n",
    "    test = c.iloc[split_size:]\n",
    "\n",
    "    train_log = np.log(train)\n",
    "    train_log_diff = train_log.diff().dropna()\n",
    "    \n",
    "    auto_arima_model_3 = pm.auto_arima(train_log_diff[company], start_p=1, start_q=1,\n",
    "                                       test='adf',\n",
    "                                       max_p=5, max_q=5,\n",
    "                                       m=1,\n",
    "                                       d=None,\n",
    "                                       seasonal=False,\n",
    "                                       start_P=0,\n",
    "                                       D=0,\n",
    "                                       trace=False,\n",
    "                                       error_action='ignore',\n",
    "                                       suppress_warnings=True,\n",
    "                                       stepwise=True)\n",
    "\n",
    "    forecast = auto_arima_model_3.predict(n_periods=len(test))\n",
    "\n",
    "    forecast_df = pd.DataFrame(forecast, columns=[company])\n",
    "    forecast_df.index = test.index\n",
    "\n",
    "    forecast_df = pd.DataFrame(forecast, columns=[company])\n",
    "    forecast_df.index = test.index\n",
    "\n",
    "    forecast_df_cumsum = forecast_df[company].cumsum()\n",
    "    last_log_value = train_log.iloc[-1].item()  # Convert to scalar if necessary\n",
    "    forecast_df_reversed_diff = forecast_df_cumsum + last_log_value\n",
    "    forecast_df_reversed = np.exp(forecast_df_reversed_diff)\n",
    "\n",
    "    forecasted_df = pd.DataFrame(forecast_df_reversed, columns=[company])\n",
    "    forecasted_df.index = test.index\n",
    "\n",
    "    forecasted_values = forecasted_df[company].values\n",
    "    actual_values = test[company].values\n",
    "\n",
    "\n",
    "    rmse = np.sqrt(mean_squared_error(actual_values, forecasted_values))\n",
    "\n",
    "\n",
    "    mae = mean_absolute_error(actual_values, forecasted_values)\n",
    "\n",
    "\n",
    "    mape = np.mean(np.abs((actual_values - forecasted_values) / actual_values)) * 100\n",
    "\n",
    "    print(company, rmse, mae, mape)\n",
    "    results.append([company, rmse, mae, mape])"
   ],
   "metadata": {
    "collapsed": false,
    "ExecuteTime": {
     "end_time": "2024-03-16T07:39:31.347637Z",
     "start_time": "2024-03-16T07:39:25.552257Z"
    }
   },
   "id": "d1c3227898ec79ce",
   "execution_count": 30
  },
  {
   "cell_type": "code",
   "outputs": [],
   "source": [
    "results_df = pd.DataFrame(results, columns=['Company Name', 'RMSE', 'MAE', 'MAPE'])"
   ],
   "metadata": {
    "collapsed": false,
    "ExecuteTime": {
     "end_time": "2024-03-16T07:40:55.656117Z",
     "start_time": "2024-03-16T07:40:55.652343Z"
    }
   },
   "id": "79bd41f816efca7c",
   "execution_count": 31
  },
  {
   "cell_type": "code",
   "outputs": [],
   "source": [
    "results_df.to_excel('/Users/keremsmacbook/DataspellProjects/MultivariateForecasting/OutputData/Crypto_ARIMA.xlsx', index=False)"
   ],
   "metadata": {
    "collapsed": false,
    "ExecuteTime": {
     "end_time": "2024-03-16T07:41:06.013772Z",
     "start_time": "2024-03-16T07:41:05.903636Z"
    }
   },
   "id": "432ded36b6888fc6",
   "execution_count": 32
  },
  {
   "cell_type": "code",
   "outputs": [],
   "source": [],
   "metadata": {
    "collapsed": false
   },
   "id": "b50d169d5e01369b"
  }
 ],
 "metadata": {
  "kernelspec": {
   "display_name": "Python 3",
   "language": "python",
   "name": "python3"
  },
  "language_info": {
   "codemirror_mode": {
    "name": "ipython",
    "version": 2
   },
   "file_extension": ".py",
   "mimetype": "text/x-python",
   "name": "python",
   "nbconvert_exporter": "python",
   "pygments_lexer": "ipython2",
   "version": "2.7.6"
  }
 },
 "nbformat": 4,
 "nbformat_minor": 5
}
